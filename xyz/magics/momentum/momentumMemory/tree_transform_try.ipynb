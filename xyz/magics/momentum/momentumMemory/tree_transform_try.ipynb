{
 "cells": [
  {
   "cell_type": "code",
   "execution_count": 1,
   "metadata": {},
   "outputs": [],
   "source": [
    "import pytest\n",
    "\n",
    "import sys\n",
    "import os\n",
    "from pathlib import Path\n",
    "sys.path.append('../../../..')\n",
    "\n",
    "\n",
    "from MomentumMemory import MomentumMemory\n",
    "from pymilvus import utility, Collection"
   ]
  },
  {
   "cell_type": "code",
   "execution_count": 2,
   "metadata": {},
   "outputs": [],
   "source": [
    "memory_instance = MomentumMemory(\n",
    "            sql_db = 'momentum_sql_db',\n",
    "            milvus_host = '18.171.129.243',\n",
    "            milvus_port = 80,\n",
    "            milvus_user = 'root',\n",
    "            milvus_psw = 'NetMindMilvusDB',\n",
    "            sql_host = '18.171.129.243',\n",
    "            sql_port = 3306,\n",
    "            sql_user = 'netmind',\n",
    "            sql_psw = 'NetMindMySQL',\n",
    "        )"
   ]
  },
  {
   "cell_type": "code",
   "execution_count": 3,
   "metadata": {},
   "outputs": [],
   "source": [
    "# step 1 - success\n",
    "step_1_status = 'I have obesity problem and my weight is 100 kg over the normal range'\n",
    "step_1_goal = 'Lose 100kg through medication or surgery to return my weight to normal levels.'\n",
    "step_1_action = 'Specify a weight loss plan through consultation with doctors and professionals.'\n",
    "step_1_feedback = 'Being 100 kg overweight may mean that weight loss cannot be achieved simply through exercise, and it may be reasonable to consider medications and surgery.'\n",
    "step_1 = memory_instance.save_memory(-1, 1, step_1_status, step_1_goal, step_1_action, step_1_feedback)\n",
    "\n",
    "# step 2.1 - success\n",
    "step_2P1_status = 'After professional evaluation, a plan to use surgery for weight loss was determined.'\n",
    "step_2P1_goal = 'Undergo bariatric surgery to remove 100 kg of excess fat.'\n",
    "step_2P1_action = 'Check into a suitable hospital and find a surgeon to perform the surgery.'\n",
    "step_2P1_feedback = 'Opting for surgical treatment can help you lose weight quickly and control your weight to a healthy level.'\n",
    "step_2P1 = memory_instance.save_memory(step_1, 2, step_2P1_status, step_2P1_goal, step_2P1_action, step_2P1_feedback)\n",
    "\n",
    "# step 2.2 - success\n",
    "step_2P2_status = 'Decided to use a new weight loss drug released by a pharmaceutical company.'\n",
    "step_2P2_goal = 'Gradually reduce body weight by 100kg by taking medication to reach a reasonable level.'\n",
    "step_2P2_action = 'Engage in outdoor activities such as brisk walking or cycling daily.'\n",
    "step_2P2_feedback = 'As an office worker, the frequency and intensity of outdoor exercise cannot meet the goal of losing 5 kg.'\n",
    "step_2P2 = memory_instance.save_memory(step_1, 2, step_2P2_status, step_2P2_goal, step_2P2_action, step_2P2_feedback)\n",
    "\n",
    "# step 3.1 - success\n",
    "step_3P1_status = 'Completed bariatric surgery and successfully achieved the goal of losing 100kg.'\n",
    "step_3P1_goal = 'Lose 100kg through surgery.'\n",
    "step_3P1_action = ''\n",
    "step_3P1_feedback = 'Surgical surgery is a proven method to rapidly achieve weight loss goals.'\n",
    "step_3P1 = memory_instance.save_memory(step_2P1, 3, step_3P1_status, step_3P1_goal, step_3P1_action, step_3P1_feedback)\n",
    "\n",
    "memory_instance.update_final_status(step_3P1, 'success')\n",
    "\n",
    "# step 3.2 - success\n",
    "step_3P2_status = 'Purchased a full course of weight loss pills and started taking them.'\n",
    "step_3P2_goal = 'Complete the entire course of treatment and record weight changes to verify whether the goal of losing 100kg has been achieved.'\n",
    "step_3P2_action = 'Check the medication for the entire course of treatment.'\n",
    "step_3P2_feedback = 'The use of weight loss pills is also a common way to lose weight, but you need to pay attention to individual physical differences and drug contraindications.'\n",
    "step_3P2 = memory_instance.save_memory(step_2P2, 3, step_3P2_status, step_3P2_goal, step_3P2_action, step_3P2_feedback)\n",
    "\n",
    "# step 4.2.1 - fail\n",
    "step_4P2P1_status = 'Side effects of taking medication resulted in severe loss of appetite and lethargy. Have stopped taking medication.'\n",
    "step_4P2P1_goal = 'Lose 100kg by taking diet pills.'\n",
    "step_4P2P1_action = ''\n",
    "step_4P2P1_feedback = 'Individuals may have adverse reactions to weight loss drugs, so you need to be careful when using this method to lose weight.'\n",
    "step_4P2P1 = memory_instance.save_memory(step_3P2, 4, step_4P2P1_status, step_4P2P1_goal, step_4P2P1_action, step_4P2P1_feedback)\n",
    "\n",
    "memory_instance.update_final_status(step_4P2P1, 'fail')\n",
    "\n",
    "# step 4.2.2 - success\n",
    "step_4P2P2_status = 'After completing the course of treatment, I successfully lost 100kg and my weight was controlled to a reasonable range.'\n",
    "step_4P2P2_goal = 'Lose 100kg by taking diet pills.'\n",
    "step_4P2P2_action = ''\n",
    "step_4P2P2_feedback = 'By improving your dietary habits and choosing high-frequency and high-intensity running, you can effectively achieve your weight loss goals.'\n",
    "step_4P2P2 = memory_instance.save_memory(step_3P2, 4, step_4P2P2_status, step_4P2P2_goal, step_4P2P2_action, step_4P2P2_feedback)\n",
    "\n",
    "memory_instance.update_final_status(step_4P2P2, 'success')\n",
    "\n",
    "\n",
    "\n",
    "\n",
    "# 添加两个\n",
    "# step 1 - success\n",
    "step_1_status = 'Exceeding weight by 10 kilograms.'\n",
    "step_1_goal = 'Reduce weight of 10 kg.'\n",
    "step_1_action = 'Establish a weight loss plan including diet and exercise.'\n",
    "step_1_feedback = 'Setting up a weight loss plan is the first step in starting the weight loss journey, laying the foundation for subsequent actions.'\n",
    "step_1 = memory_instance.save_memory(-1, 1, step_1_status, step_1_goal, step_1_action, step_1_feedback)\n",
    "\n",
    "# step 2 - success\n",
    "step_2_status = 'Weight loss plan established.'\n",
    "step_2_goal = 'Improve dietary habits to reduce weight.'\n",
    "step_2_action = 'Develop a healthy eating plan, reducing intake of high-calorie foods and increasing the proportion of vegetables and fruits.'\n",
    "step_2_feedback = 'Improving dietary habits helps control calorie intake, which is key to successful weight loss.'\n",
    "step_2 = memory_instance.save_memory(step_1, 2, step_2_status, step_2_goal, step_2_action, step_2_feedback)\n",
    "\n",
    "# step 3.1 - fail\n",
    "step_3P1_status = 'Improved eating habits have shown results, with a weight loss of 5 kg, but the target of 10 kg has not yet been reached'\n",
    "step_3P1_goal = 'Reduce the remaining 5kg through exercise.'\n",
    "step_3P1_action = 'Engage in outdoor activities such as brisk walking or cycling daily.'\n",
    "step_3P1_feedback = 'As an office worker, the frequency and intensity of outdoor exercise cannot meet the goal of losing 5 kg.'\n",
    "step_3P1 = memory_instance.save_memory(step_2, 3, step_3P1_status, step_3P1_goal, step_3P1_action, step_3P1_feedback)\n",
    "\n",
    "memory_instance.update_final_status(step_3P1, 'fail')\n",
    "\n",
    "# step 3.2 - success\n",
    "step_3P2_status = 'Improved eating habits have shown results, with a weight loss of 5 kg, but the target of 10 kg has not yet been reached'\n",
    "step_3P2_goal = 'Reduce the remaining 5kg through exercise.'\n",
    "step_3P2_action = 'Join a gym and engage in regular aerobic and strength training.'\n",
    "step_3P2_feedback = 'Gyms can provide high-frequency and high-intensity training, which is an effective option for weight loss.'\n",
    "step_3P2 = memory_instance.save_memory(step_2, 3, step_3P2_status, step_3P2_goal, step_3P2_action, step_3P2_feedback)\n",
    "\n",
    "# step 4.2.1 - fail\n",
    "step_4P2P1_status = 'Joined a gym and needs to choose a physical activity to lose 5 kg.'\n",
    "step_4P2P1_goal = 'Choose exercises suitable for rapid weight loss.'\n",
    "step_4P2P1_action = 'Participating in aerobic dance classes.'\n",
    "step_4P2P1_feedback = 'The weight loss speed of aerobic dance is too slow and prone to rebound.'\n",
    "step_4P2P1 = memory_instance.save_memory(step_3P2, 4, step_4P2P1_status, step_4P2P1_goal, step_4P2P1_action, step_4P2P1_feedback)\n",
    "\n",
    "memory_instance.update_final_status(step_4P2P1, 'fail')\n",
    "\n",
    "# step 4.2.2 - success\n",
    "step_4P2P2_status = 'Joined a gym and needs to choose a physical activity to lose 5 kg.'\n",
    "step_4P2P2_goal = 'Choose exercises suitable for rapid weight loss.'\n",
    "step_4P2P2_action = 'Engaged in HIIT training.'\n",
    "step_4P2P2_feedback = 'The training intensity of HIIT training is very high and it is specially designed for weight loss. It is very right to choose this exercise.'\n",
    "step_4P2P2 = memory_instance.save_memory(step_3P2, 4, step_4P2P2_status, step_4P2P2_goal, step_4P2P2_action, step_4P2P2_feedback)\n",
    "\n",
    "# step 5.2.2 - success\n",
    "step_5_status = 'Achieve weight loss goals through physical exercise'\n",
    "step_5_goal = ''\n",
    "step_5_action = ''\n",
    "step_5_feedback = 'By improving your dietary habits and choosing high-frequency and high-intensity running, you can effectively achieve your weight loss goals.'\n",
    "step_5 = memory_instance.save_memory(step_4P2P2, 5, step_5_status, step_5_goal, step_5_action, step_5_feedback)\n",
    "\n",
    "memory_instance.update_final_status(step_5, 'success')"
   ]
  },
  {
   "cell_type": "code",
   "execution_count": 4,
   "metadata": {},
   "outputs": [
    {
     "name": "stdout",
     "output_type": "stream",
     "text": [
      "\n",
      "\n",
      "36: Exceeding weight by 10 kilograms.\n",
      "     Establish a weight loss plan including diet and exercise.\n",
      "└── 37: Weight loss plan established.\n",
      "          Develop a healthy eating plan, reducing intake of high-calorie foods and increasing the proportion of vegetables and fruits.\n",
      "    ├── 38: Improved eating habits have shown results, with a weight loss of 5 kg, but the target of 10 kg has not yet been reached\n",
      "               Engage in outdoor activities such as brisk walking or cycling daily.\n",
      "    └── 39: Improved eating habits have shown results, with a weight loss of 5 kg, but the target of 10 kg has not yet been reached\n",
      "               Join a gym and engage in regular aerobic and strength training.\n",
      "        ├── 40: Joined a gym and needs to choose a physical activity to lose 5 kg.\n",
      "                    Participating in aerobic dance classes.\n",
      "        └── 41: Joined a gym and needs to choose a physical activity to lose 5 kg.\n",
      "                    Engaged in HIIT training.\n",
      "            └── 42: Achieve weight loss goals through physical exercise\n",
      "                         \n"
     ]
    }
   ],
   "source": [
    "memory_instance.show_memory(step_1)"
   ]
  },
  {
   "cell_type": "code",
   "execution_count": 12,
   "metadata": {},
   "outputs": [],
   "source": [
    "a = memory_instance.get_child_id(23, table='short_term')"
   ]
  },
  {
   "cell_type": "code",
   "execution_count": 13,
   "metadata": {},
   "outputs": [
    {
     "name": "stdout",
     "output_type": "stream",
     "text": [
      "yes\n"
     ]
    }
   ],
   "source": [
    "if a:\n",
    "    print('yes')"
   ]
  },
  {
   "cell_type": "code",
   "execution_count": null,
   "metadata": {},
   "outputs": [
    {
     "data": {
      "text/plain": [
       "[22, 23, 24, 25, 26, 27, 28]"
      ]
     },
     "execution_count": 12,
     "metadata": {},
     "output_type": "execute_result"
    }
   ],
   "source": [
    "memory_instance._get_whole_tree_id(cur_id=22)"
   ]
  }
 ],
 "metadata": {
  "kernelspec": {
   "display_name": "gaming_demo",
   "language": "python",
   "name": "python3"
  },
  "language_info": {
   "codemirror_mode": {
    "name": "ipython",
    "version": 3
   },
   "file_extension": ".py",
   "mimetype": "text/x-python",
   "name": "python",
   "nbconvert_exporter": "python",
   "pygments_lexer": "ipython3",
   "version": "3.10.13"
  }
 },
 "nbformat": 4,
 "nbformat_minor": 2
}
