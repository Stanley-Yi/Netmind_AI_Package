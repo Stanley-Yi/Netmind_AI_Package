{
 "cells": [
  {
   "cell_type": "code",
   "execution_count": 44,
   "metadata": {},
   "outputs": [],
   "source": [
    "from pymilvus import (\n",
    "    connections,\n",
    "    utility,\n",
    "    FieldSchema,\n",
    "    CollectionSchema,\n",
    "    DataType,\n",
    "    Collection,\n",
    "    db,\n",
    "    Partition\n",
    ")\n",
    "\n",
    "import random\n",
    "import datetime"
   ]
  },
  {
   "cell_type": "code",
   "execution_count": 45,
   "metadata": {},
   "outputs": [],
   "source": [
    "conn = connections.connect(\n",
    "  alias=\"default\",\n",
    "  host='18.171.129.243',\n",
    "  port='80',\n",
    "  user=\"root\",\n",
    "  password=\"NetMindMilvusDB\",\n",
    ")"
   ]
  },
  {
   "cell_type": "code",
   "execution_count": 46,
   "metadata": {},
   "outputs": [],
   "source": [
    "db.using_database('momentum_milvus_db')\n",
    "short_term = Collection('short_term')\n",
    "index = {\"index_type\": \"IVF_FLAT\", \"params\": {\"nlist\": 2}, \"metric_type\": \"L2\"}\n",
    "# short_term.create_index(\"vector\", index)\n",
    "short_term.load()\n",
    "long_term = Collection('long_term')\n",
    "# long_term.create_index(\"vector\", index)\n",
    "long_term.load()"
   ]
  },
  {
   "cell_type": "code",
   "execution_count": 54,
   "metadata": {},
   "outputs": [
    {
     "data": {
      "text/plain": [
       "[{'sql_id': 1, 'category': 'status', 'id': 447562295395988341},\n",
       " {'sql_id': 1, 'category': 'goal', 'id': 447562295395988342},\n",
       " {'sql_id': 1, 'category': 'action', 'id': 447562295395988343},\n",
       " {'sql_id': 1, 'category': 'feedback', 'id': 447562295395988344},\n",
       " {'sql_id': 2, 'category': 'status', 'id': 447562295395988348},\n",
       " {'sql_id': 2, 'category': 'goal', 'id': 447562295395988349},\n",
       " {'sql_id': 2, 'category': 'action', 'id': 447562295395988350},\n",
       " {'sql_id': 2, 'category': 'feedback', 'id': 447562295395988351},\n",
       " {'sql_id': 3, 'category': 'status', 'id': 447562295395988355},\n",
       " {'sql_id': 3, 'category': 'goal', 'id': 447562295395988356},\n",
       " {'sql_id': 3, 'category': 'action', 'id': 447562295395988357},\n",
       " {'sql_id': 3, 'category': 'feedback', 'id': 447562295395988358},\n",
       " {'sql_id': 4, 'category': 'status', 'id': 447562295395988362},\n",
       " {'sql_id': 4, 'category': 'goal', 'id': 447562295395988363},\n",
       " {'sql_id': 4, 'category': 'action', 'id': 447562295395988364},\n",
       " {'sql_id': 4, 'category': 'feedback', 'id': 447562295395988365},\n",
       " {'sql_id': 5, 'category': 'status', 'id': 447562295395988369},\n",
       " {'sql_id': 5, 'category': 'goal', 'id': 447562295395988370},\n",
       " {'sql_id': 5, 'category': 'action', 'id': 447562295395988371},\n",
       " {'sql_id': 5, 'category': 'feedback', 'id': 447562295395988372},\n",
       " {'sql_id': 6, 'category': 'status', 'id': 447562295395988376},\n",
       " {'sql_id': 6, 'category': 'goal', 'id': 447562295395988377},\n",
       " {'sql_id': 6, 'category': 'action', 'id': 447562295395988378},\n",
       " {'sql_id': 6, 'category': 'feedback', 'id': 447562295395988379},\n",
       " {'sql_id': 7, 'category': 'status', 'id': 447562295395988383},\n",
       " {'sql_id': 7, 'category': 'goal', 'id': 447562295395988384},\n",
       " {'sql_id': 7, 'category': 'action', 'id': 447562295395988385},\n",
       " {'sql_id': 7, 'category': 'feedback', 'id': 447562295395988386}]"
      ]
     },
     "execution_count": 54,
     "metadata": {},
     "output_type": "execute_result"
    }
   ],
   "source": [
    "res = long_term.query(\n",
    "        expr = \"\",\n",
    "        limit = 100,\n",
    "        output_fields = ['sql_id', 'category'],\n",
    "    )\n",
    "\n",
    "res"
   ]
  },
  {
   "cell_type": "code",
   "execution_count": 55,
   "metadata": {},
   "outputs": [
    {
     "data": {
      "text/plain": [
       "[{'sql_id': 1, 'category': 'status', 'id': 447562295395988271},\n",
       " {'sql_id': 1, 'category': 'goal', 'id': 447562295395988272},\n",
       " {'sql_id': 1, 'category': 'action', 'id': 447562295395988273},\n",
       " {'sql_id': 1, 'category': 'feedback', 'id': 447562295395988274},\n",
       " {'sql_id': 2, 'category': 'status', 'id': 447562295395988276},\n",
       " {'sql_id': 2, 'category': 'goal', 'id': 447562295395988277},\n",
       " {'sql_id': 2, 'category': 'action', 'id': 447562295395988278},\n",
       " {'sql_id': 2, 'category': 'feedback', 'id': 447562295395988279},\n",
       " {'sql_id': 3, 'category': 'status', 'id': 447562295395988281},\n",
       " {'sql_id': 3, 'category': 'goal', 'id': 447562295395988282},\n",
       " {'sql_id': 3, 'category': 'action', 'id': 447562295395988283},\n",
       " {'sql_id': 3, 'category': 'feedback', 'id': 447562295395988284},\n",
       " {'sql_id': 4, 'category': 'status', 'id': 447562295395988286},\n",
       " {'sql_id': 4, 'category': 'goal', 'id': 447562295395988287},\n",
       " {'sql_id': 4, 'category': 'action', 'id': 447562295395988288},\n",
       " {'sql_id': 4, 'category': 'feedback', 'id': 447562295395988289},\n",
       " {'sql_id': 5, 'category': 'status', 'id': 447562295395988291},\n",
       " {'sql_id': 5, 'category': 'goal', 'id': 447562295395988292},\n",
       " {'sql_id': 5, 'category': 'action', 'id': 447562295395988293},\n",
       " {'sql_id': 5, 'category': 'feedback', 'id': 447562295395988294},\n",
       " {'sql_id': 6, 'category': 'status', 'id': 447562295395988296},\n",
       " {'sql_id': 6, 'category': 'goal', 'id': 447562295395988297},\n",
       " {'sql_id': 6, 'category': 'action', 'id': 447562295395988298},\n",
       " {'sql_id': 6, 'category': 'feedback', 'id': 447562295395988299},\n",
       " {'sql_id': 7, 'category': 'status', 'id': 447562295395988301},\n",
       " {'sql_id': 7, 'category': 'goal', 'id': 447562295395988302},\n",
       " {'sql_id': 7, 'category': 'action', 'id': 447562295395988303},\n",
       " {'sql_id': 7, 'category': 'feedback', 'id': 447562295395988304}]"
      ]
     },
     "execution_count": 55,
     "metadata": {},
     "output_type": "execute_result"
    }
   ],
   "source": [
    "res = short_term.query(\n",
    "        expr = \"\",\n",
    "        limit = 100,\n",
    "        output_fields = ['sql_id', 'category'],\n",
    "    )\n",
    "\n",
    "res"
   ]
  },
  {
   "cell_type": "code",
   "execution_count": 4,
   "metadata": {},
   "outputs": [],
   "source": [
    "database = db.create_database(\"memory\")\n",
    "\n",
    "db.using_database(\"memory\")"
   ]
  },
  {
   "cell_type": "code",
   "execution_count": 10,
   "metadata": {},
   "outputs": [],
   "source": [
    "create_time = FieldSchema(\n",
    "  name=\"create_time\",\n",
    "  dtype=DataType.VARCHAR,\n",
    "  max_length=50,\n",
    ")\n",
    "\n",
    "last_modified = FieldSchema(\n",
    "  name=\"last_modified\",\n",
    "  dtype=DataType.VARCHAR,\n",
    "  max_length=50,\n",
    ")\n",
    "\n",
    "memory_id = FieldSchema(\n",
    "    name=\"id\",\n",
    "    dtype=DataType.INT64,\n",
    "    is_primary=True,\n",
    ")\n",
    "\n",
    "character_id = FieldSchema(\n",
    "    name=\"character_id\",\n",
    "    dtype=DataType.INT64\n",
    ")\n",
    "\n",
    "importance = FieldSchema(\n",
    "  name=\"importance\",\n",
    "  dtype=DataType.INT8,\n",
    ")\n",
    "\n",
    "category = FieldSchema(\n",
    "  name=\"category\",\n",
    "  dtype=DataType.VARCHAR,\n",
    "  max_length=50,\n",
    ")\n",
    "\n",
    "vector = FieldSchema(\n",
    "  name=\"memory_vector\",\n",
    "  dtype=DataType.FLOAT_VECTOR,  # BINARY_VECTOR or FLOAT_VECTOR\n",
    "  default_value=[1.0] * 1024,\n",
    "  dim=1024\n",
    ")\n",
    "\n",
    "vector_2 = FieldSchema(\n",
    "  name=\"memory_vector_2\",\n",
    "  dtype=DataType.FLOAT_VECTOR,  # BINARY_VECTOR or FLOAT_VECTOR\n",
    "  default_value=[1.0] * 1024,\n",
    "  dim=1024\n",
    ")\n",
    "\n",
    "content = FieldSchema(\n",
    "    name=\"real_memory\",\n",
    "    dtype=DataType.VARCHAR,\n",
    "    max_length=9999,\n",
    "    default_value=\"Unknown\"\n",
    ")"
   ]
  },
  {
   "cell_type": "code",
   "execution_count": 13,
   "metadata": {},
   "outputs": [
    {
     "name": "stderr",
     "output_type": "stream",
     "text": [
      "RPC error: [create_collection], <MilvusException: (code=65535, message=multiple vector fields is not supported, fields name: memory_vector, memory_vector_2)>, <Time:{'RPC start': '2024-02-07 15:18:44.999264', 'RPC error': '2024-02-07 15:18:45.016138'}>\n"
     ]
    },
    {
     "ename": "MilvusException",
     "evalue": "<MilvusException: (code=65535, message=multiple vector fields is not supported, fields name: memory_vector, memory_vector_2)>",
     "output_type": "error",
     "traceback": [
      "\u001b[0;31m---------------------------------------------------------------------------\u001b[0m",
      "\u001b[0;31mMilvusException\u001b[0m                           Traceback (most recent call last)",
      "    \u001b[0;31m[... skipping hidden 1 frame]\u001b[0m\n",
      "Cell \u001b[0;32mIn[13], line 12\u001b[0m\n\u001b[1;32m     10\u001b[0m collection_name \u001b[38;5;241m=\u001b[39m \u001b[38;5;124m\"\u001b[39m\u001b[38;5;124mcharacter_memory\u001b[39m\u001b[38;5;124m\"\u001b[39m\n\u001b[0;32m---> 12\u001b[0m collection \u001b[38;5;241m=\u001b[39m \u001b[43mCollection\u001b[49m\u001b[43m(\u001b[49m\n\u001b[1;32m     13\u001b[0m \u001b[43m    \u001b[49m\u001b[43mname\u001b[49m\u001b[38;5;241;43m=\u001b[39;49m\u001b[43mcollection_name\u001b[49m\u001b[43m,\u001b[49m\n\u001b[1;32m     14\u001b[0m \u001b[43m    \u001b[49m\u001b[43mschema\u001b[49m\u001b[38;5;241;43m=\u001b[39;49m\u001b[43mcoll_schema\u001b[49m\u001b[43m,\u001b[49m\n\u001b[1;32m     15\u001b[0m \u001b[43m    \u001b[49m\u001b[43musing\u001b[49m\u001b[38;5;241;43m=\u001b[39;49m\u001b[38;5;124;43m'\u001b[39;49m\u001b[38;5;124;43mdefault\u001b[39;49m\u001b[38;5;124;43m'\u001b[39;49m\u001b[43m,\u001b[49m\u001b[43m  \u001b[49m\u001b[38;5;66;43;03m# 在哪个 server 上创建 collection\u001b[39;49;00m\n\u001b[1;32m     16\u001b[0m \u001b[43m    \u001b[49m\u001b[43mshards_num\u001b[49m\u001b[38;5;241;43m=\u001b[39;49m\u001b[38;5;241;43m1\u001b[39;49m\u001b[43m,\u001b[49m\u001b[43m  \u001b[49m\u001b[38;5;66;43;03m# 把写入操作分配到 2 个不同的 node / server 上并行进行\u001b[39;49;00m\n\u001b[1;32m     17\u001b[0m \u001b[43m    \u001b[49m\n\u001b[1;32m     18\u001b[0m \u001b[43m)\u001b[49m\n",
      "File \u001b[0;32m~/anaconda3/envs/XYZ/lib/python3.10/site-packages/pymilvus/orm/collection.py:147\u001b[0m, in \u001b[0;36mCollection.__init__\u001b[0;34m(self, name, schema, using, **kwargs)\u001b[0m\n\u001b[1;32m    143\u001b[0m consistency_level \u001b[38;5;241m=\u001b[39m get_consistency_level(\n\u001b[1;32m    144\u001b[0m     kwargs\u001b[38;5;241m.\u001b[39mget(\u001b[38;5;124m\"\u001b[39m\u001b[38;5;124mconsistency_level\u001b[39m\u001b[38;5;124m\"\u001b[39m, DEFAULT_CONSISTENCY_LEVEL)\n\u001b[1;32m    145\u001b[0m )\n\u001b[0;32m--> 147\u001b[0m \u001b[43mconn\u001b[49m\u001b[38;5;241;43m.\u001b[39;49m\u001b[43mcreate_collection\u001b[49m\u001b[43m(\u001b[49m\u001b[38;5;28;43mself\u001b[39;49m\u001b[38;5;241;43m.\u001b[39;49m\u001b[43m_name\u001b[49m\u001b[43m,\u001b[49m\u001b[43m \u001b[49m\u001b[43mschema\u001b[49m\u001b[43m,\u001b[49m\u001b[43m \u001b[49m\u001b[38;5;241;43m*\u001b[39;49m\u001b[38;5;241;43m*\u001b[39;49m\u001b[43mkwargs\u001b[49m\u001b[43m)\u001b[49m\n\u001b[1;32m    148\u001b[0m \u001b[38;5;28mself\u001b[39m\u001b[38;5;241m.\u001b[39m_schema \u001b[38;5;241m=\u001b[39m schema\n",
      "File \u001b[0;32m~/anaconda3/envs/XYZ/lib/python3.10/site-packages/pymilvus/decorators.py:135\u001b[0m, in \u001b[0;36merror_handler.<locals>.wrapper.<locals>.handler\u001b[0;34m(*args, **kwargs)\u001b[0m\n\u001b[1;32m    134\u001b[0m     LOGGER\u001b[38;5;241m.\u001b[39merror(\u001b[38;5;124mf\u001b[39m\u001b[38;5;124m\"\u001b[39m\u001b[38;5;124mRPC error: [\u001b[39m\u001b[38;5;132;01m{\u001b[39;00minner_name\u001b[38;5;132;01m}\u001b[39;00m\u001b[38;5;124m], \u001b[39m\u001b[38;5;132;01m{\u001b[39;00me\u001b[38;5;132;01m}\u001b[39;00m\u001b[38;5;124m, <Time:\u001b[39m\u001b[38;5;132;01m{\u001b[39;00mrecord_dict\u001b[38;5;132;01m}\u001b[39;00m\u001b[38;5;124m>\u001b[39m\u001b[38;5;124m\"\u001b[39m)\n\u001b[0;32m--> 135\u001b[0m     \u001b[38;5;28;01mraise\u001b[39;00m e \u001b[38;5;28;01mfrom\u001b[39;00m \u001b[38;5;21;01me\u001b[39;00m\n\u001b[1;32m    136\u001b[0m \u001b[38;5;28;01mexcept\u001b[39;00m grpc\u001b[38;5;241m.\u001b[39mFutureTimeoutError \u001b[38;5;28;01mas\u001b[39;00m e:\n",
      "File \u001b[0;32m~/anaconda3/envs/XYZ/lib/python3.10/site-packages/pymilvus/decorators.py:131\u001b[0m, in \u001b[0;36merror_handler.<locals>.wrapper.<locals>.handler\u001b[0;34m(*args, **kwargs)\u001b[0m\n\u001b[1;32m    130\u001b[0m     record_dict[\u001b[38;5;124m\"\u001b[39m\u001b[38;5;124mRPC start\u001b[39m\u001b[38;5;124m\"\u001b[39m] \u001b[38;5;241m=\u001b[39m \u001b[38;5;28mstr\u001b[39m(datetime\u001b[38;5;241m.\u001b[39mdatetime\u001b[38;5;241m.\u001b[39mnow())\n\u001b[0;32m--> 131\u001b[0m     \u001b[38;5;28;01mreturn\u001b[39;00m \u001b[43mfunc\u001b[49m\u001b[43m(\u001b[49m\u001b[38;5;241;43m*\u001b[39;49m\u001b[43margs\u001b[49m\u001b[43m,\u001b[49m\u001b[43m \u001b[49m\u001b[38;5;241;43m*\u001b[39;49m\u001b[38;5;241;43m*\u001b[39;49m\u001b[43mkwargs\u001b[49m\u001b[43m)\u001b[49m\n\u001b[1;32m    132\u001b[0m \u001b[38;5;28;01mexcept\u001b[39;00m MilvusException \u001b[38;5;28;01mas\u001b[39;00m e:\n",
      "File \u001b[0;32m~/anaconda3/envs/XYZ/lib/python3.10/site-packages/pymilvus/decorators.py:170\u001b[0m, in \u001b[0;36mtracing_request.<locals>.wrapper.<locals>.handler\u001b[0;34m(self, *args, **kwargs)\u001b[0m\n\u001b[1;32m    169\u001b[0m     \u001b[38;5;28mself\u001b[39m\u001b[38;5;241m.\u001b[39mset_onetime_request_id(req_id)\n\u001b[0;32m--> 170\u001b[0m \u001b[38;5;28;01mreturn\u001b[39;00m \u001b[43mfunc\u001b[49m\u001b[43m(\u001b[49m\u001b[38;5;28;43mself\u001b[39;49m\u001b[43m,\u001b[49m\u001b[43m \u001b[49m\u001b[38;5;241;43m*\u001b[39;49m\u001b[43margs\u001b[49m\u001b[43m,\u001b[49m\u001b[43m \u001b[49m\u001b[38;5;241;43m*\u001b[39;49m\u001b[38;5;241;43m*\u001b[39;49m\u001b[43mkwargs\u001b[49m\u001b[43m)\u001b[49m\n",
      "File \u001b[0;32m~/anaconda3/envs/XYZ/lib/python3.10/site-packages/pymilvus/decorators.py:110\u001b[0m, in \u001b[0;36mretry_on_rpc_failure.<locals>.wrapper.<locals>.handler\u001b[0;34m(*args, **kwargs)\u001b[0m\n\u001b[1;32m    109\u001b[0m     \u001b[38;5;28;01melse\u001b[39;00m:\n\u001b[0;32m--> 110\u001b[0m         \u001b[38;5;28;01mraise\u001b[39;00m e \u001b[38;5;28;01mfrom\u001b[39;00m \u001b[38;5;21;01me\u001b[39;00m\n\u001b[1;32m    111\u001b[0m \u001b[38;5;28;01mexcept\u001b[39;00m \u001b[38;5;167;01mException\u001b[39;00m \u001b[38;5;28;01mas\u001b[39;00m e:\n",
      "File \u001b[0;32m~/anaconda3/envs/XYZ/lib/python3.10/site-packages/pymilvus/decorators.py:74\u001b[0m, in \u001b[0;36mretry_on_rpc_failure.<locals>.wrapper.<locals>.handler\u001b[0;34m(*args, **kwargs)\u001b[0m\n\u001b[1;32m     73\u001b[0m \u001b[38;5;28;01mtry\u001b[39;00m:\n\u001b[0;32m---> 74\u001b[0m     \u001b[38;5;28;01mreturn\u001b[39;00m \u001b[43mfunc\u001b[49m\u001b[43m(\u001b[49m\u001b[38;5;241;43m*\u001b[39;49m\u001b[43margs\u001b[49m\u001b[43m,\u001b[49m\u001b[43m \u001b[49m\u001b[38;5;241;43m*\u001b[39;49m\u001b[38;5;241;43m*\u001b[39;49m\u001b[43mkwargs\u001b[49m\u001b[43m)\u001b[49m\n\u001b[1;32m     75\u001b[0m \u001b[38;5;28;01mexcept\u001b[39;00m grpc\u001b[38;5;241m.\u001b[39mRpcError \u001b[38;5;28;01mas\u001b[39;00m e:\n\u001b[1;32m     76\u001b[0m     \u001b[38;5;66;03m# Reference: https://grpc.github.io/grpc/python/grpc.html#grpc-status-code\u001b[39;00m\n",
      "File \u001b[0;32m~/anaconda3/envs/XYZ/lib/python3.10/site-packages/pymilvus/client/grpc_handler.py:304\u001b[0m, in \u001b[0;36mGrpcHandler.create_collection\u001b[0;34m(self, collection_name, fields, timeout, **kwargs)\u001b[0m\n\u001b[1;32m    303\u001b[0m status \u001b[38;5;241m=\u001b[39m rf\u001b[38;5;241m.\u001b[39mresult()\n\u001b[0;32m--> 304\u001b[0m \u001b[43mcheck_status\u001b[49m\u001b[43m(\u001b[49m\u001b[43mstatus\u001b[49m\u001b[43m)\u001b[49m\n\u001b[1;32m    305\u001b[0m \u001b[38;5;28;01mreturn\u001b[39;00m \u001b[38;5;28;01mNone\u001b[39;00m\n",
      "File \u001b[0;32m~/anaconda3/envs/XYZ/lib/python3.10/site-packages/pymilvus/client/utils.py:54\u001b[0m, in \u001b[0;36mcheck_status\u001b[0;34m(status)\u001b[0m\n\u001b[1;32m     53\u001b[0m \u001b[38;5;28;01mif\u001b[39;00m status\u001b[38;5;241m.\u001b[39mcode \u001b[38;5;241m!=\u001b[39m \u001b[38;5;241m0\u001b[39m \u001b[38;5;129;01mor\u001b[39;00m status\u001b[38;5;241m.\u001b[39merror_code \u001b[38;5;241m!=\u001b[39m \u001b[38;5;241m0\u001b[39m:\n\u001b[0;32m---> 54\u001b[0m     \u001b[38;5;28;01mraise\u001b[39;00m MilvusException(status\u001b[38;5;241m.\u001b[39mcode, status\u001b[38;5;241m.\u001b[39mreason, status\u001b[38;5;241m.\u001b[39merror_code)\n",
      "\u001b[0;31mMilvusException\u001b[0m: <MilvusException: (code=65535, message=multiple vector fields is not supported, fields name: memory_vector, memory_vector_2)>",
      "\nThe above exception was the direct cause of the following exception:\n",
      "\u001b[0;31mMilvusException\u001b[0m                           Traceback (most recent call last)",
      "    \u001b[0;31m[... skipping hidden 1 frame]\u001b[0m\n",
      "Cell \u001b[0;32mIn[13], line 12\u001b[0m\n\u001b[1;32m     10\u001b[0m collection_name \u001b[38;5;241m=\u001b[39m \u001b[38;5;124m\"\u001b[39m\u001b[38;5;124mcharacter_memory\u001b[39m\u001b[38;5;124m\"\u001b[39m\n\u001b[0;32m---> 12\u001b[0m collection \u001b[38;5;241m=\u001b[39m \u001b[43mCollection\u001b[49m\u001b[43m(\u001b[49m\n\u001b[1;32m     13\u001b[0m \u001b[43m    \u001b[49m\u001b[43mname\u001b[49m\u001b[38;5;241;43m=\u001b[39;49m\u001b[43mcollection_name\u001b[49m\u001b[43m,\u001b[49m\n\u001b[1;32m     14\u001b[0m \u001b[43m    \u001b[49m\u001b[43mschema\u001b[49m\u001b[38;5;241;43m=\u001b[39;49m\u001b[43mcoll_schema\u001b[49m\u001b[43m,\u001b[49m\n\u001b[1;32m     15\u001b[0m \u001b[43m    \u001b[49m\u001b[43musing\u001b[49m\u001b[38;5;241;43m=\u001b[39;49m\u001b[38;5;124;43m'\u001b[39;49m\u001b[38;5;124;43mdefault\u001b[39;49m\u001b[38;5;124;43m'\u001b[39;49m\u001b[43m,\u001b[49m\u001b[43m  \u001b[49m\u001b[38;5;66;43;03m# 在哪个 server 上创建 collection\u001b[39;49;00m\n\u001b[1;32m     16\u001b[0m \u001b[43m    \u001b[49m\u001b[43mshards_num\u001b[49m\u001b[38;5;241;43m=\u001b[39;49m\u001b[38;5;241;43m1\u001b[39;49m\u001b[43m,\u001b[49m\u001b[43m  \u001b[49m\u001b[38;5;66;43;03m# 把写入操作分配到 2 个不同的 node / server 上并行进行\u001b[39;49;00m\n\u001b[1;32m     17\u001b[0m \u001b[43m    \u001b[49m\n\u001b[1;32m     18\u001b[0m \u001b[43m)\u001b[49m\n",
      "File \u001b[0;32m~/anaconda3/envs/XYZ/lib/python3.10/site-packages/pymilvus/orm/collection.py:147\u001b[0m, in \u001b[0;36mCollection.__init__\u001b[0;34m(self, name, schema, using, **kwargs)\u001b[0m\n\u001b[1;32m    143\u001b[0m consistency_level \u001b[38;5;241m=\u001b[39m get_consistency_level(\n\u001b[1;32m    144\u001b[0m     kwargs\u001b[38;5;241m.\u001b[39mget(\u001b[38;5;124m\"\u001b[39m\u001b[38;5;124mconsistency_level\u001b[39m\u001b[38;5;124m\"\u001b[39m, DEFAULT_CONSISTENCY_LEVEL)\n\u001b[1;32m    145\u001b[0m )\n\u001b[0;32m--> 147\u001b[0m \u001b[43mconn\u001b[49m\u001b[38;5;241;43m.\u001b[39;49m\u001b[43mcreate_collection\u001b[49m\u001b[43m(\u001b[49m\u001b[38;5;28;43mself\u001b[39;49m\u001b[38;5;241;43m.\u001b[39;49m\u001b[43m_name\u001b[49m\u001b[43m,\u001b[49m\u001b[43m \u001b[49m\u001b[43mschema\u001b[49m\u001b[43m,\u001b[49m\u001b[43m \u001b[49m\u001b[38;5;241;43m*\u001b[39;49m\u001b[38;5;241;43m*\u001b[39;49m\u001b[43mkwargs\u001b[49m\u001b[43m)\u001b[49m\n\u001b[1;32m    148\u001b[0m \u001b[38;5;28mself\u001b[39m\u001b[38;5;241m.\u001b[39m_schema \u001b[38;5;241m=\u001b[39m schema\n",
      "File \u001b[0;32m~/anaconda3/envs/XYZ/lib/python3.10/site-packages/pymilvus/decorators.py:135\u001b[0m, in \u001b[0;36merror_handler.<locals>.wrapper.<locals>.handler\u001b[0;34m(*args, **kwargs)\u001b[0m\n\u001b[1;32m    134\u001b[0m     LOGGER\u001b[38;5;241m.\u001b[39merror(\u001b[38;5;124mf\u001b[39m\u001b[38;5;124m\"\u001b[39m\u001b[38;5;124mRPC error: [\u001b[39m\u001b[38;5;132;01m{\u001b[39;00minner_name\u001b[38;5;132;01m}\u001b[39;00m\u001b[38;5;124m], \u001b[39m\u001b[38;5;132;01m{\u001b[39;00me\u001b[38;5;132;01m}\u001b[39;00m\u001b[38;5;124m, <Time:\u001b[39m\u001b[38;5;132;01m{\u001b[39;00mrecord_dict\u001b[38;5;132;01m}\u001b[39;00m\u001b[38;5;124m>\u001b[39m\u001b[38;5;124m\"\u001b[39m)\n\u001b[0;32m--> 135\u001b[0m     \u001b[38;5;28;01mraise\u001b[39;00m e \u001b[38;5;28;01mfrom\u001b[39;00m \u001b[38;5;21;01me\u001b[39;00m\n\u001b[1;32m    136\u001b[0m \u001b[38;5;28;01mexcept\u001b[39;00m grpc\u001b[38;5;241m.\u001b[39mFutureTimeoutError \u001b[38;5;28;01mas\u001b[39;00m e:\n",
      "File \u001b[0;32m~/anaconda3/envs/XYZ/lib/python3.10/site-packages/pymilvus/decorators.py:131\u001b[0m, in \u001b[0;36merror_handler.<locals>.wrapper.<locals>.handler\u001b[0;34m(*args, **kwargs)\u001b[0m\n\u001b[1;32m    130\u001b[0m     record_dict[\u001b[38;5;124m\"\u001b[39m\u001b[38;5;124mRPC start\u001b[39m\u001b[38;5;124m\"\u001b[39m] \u001b[38;5;241m=\u001b[39m \u001b[38;5;28mstr\u001b[39m(datetime\u001b[38;5;241m.\u001b[39mdatetime\u001b[38;5;241m.\u001b[39mnow())\n\u001b[0;32m--> 131\u001b[0m     \u001b[38;5;28;01mreturn\u001b[39;00m \u001b[43mfunc\u001b[49m\u001b[43m(\u001b[49m\u001b[38;5;241;43m*\u001b[39;49m\u001b[43margs\u001b[49m\u001b[43m,\u001b[49m\u001b[43m \u001b[49m\u001b[38;5;241;43m*\u001b[39;49m\u001b[38;5;241;43m*\u001b[39;49m\u001b[43mkwargs\u001b[49m\u001b[43m)\u001b[49m\n\u001b[1;32m    132\u001b[0m \u001b[38;5;28;01mexcept\u001b[39;00m MilvusException \u001b[38;5;28;01mas\u001b[39;00m e:\n",
      "File \u001b[0;32m~/anaconda3/envs/XYZ/lib/python3.10/site-packages/pymilvus/decorators.py:170\u001b[0m, in \u001b[0;36mtracing_request.<locals>.wrapper.<locals>.handler\u001b[0;34m(self, *args, **kwargs)\u001b[0m\n\u001b[1;32m    169\u001b[0m     \u001b[38;5;28mself\u001b[39m\u001b[38;5;241m.\u001b[39mset_onetime_request_id(req_id)\n\u001b[0;32m--> 170\u001b[0m \u001b[38;5;28;01mreturn\u001b[39;00m \u001b[43mfunc\u001b[49m\u001b[43m(\u001b[49m\u001b[38;5;28;43mself\u001b[39;49m\u001b[43m,\u001b[49m\u001b[43m \u001b[49m\u001b[38;5;241;43m*\u001b[39;49m\u001b[43margs\u001b[49m\u001b[43m,\u001b[49m\u001b[43m \u001b[49m\u001b[38;5;241;43m*\u001b[39;49m\u001b[38;5;241;43m*\u001b[39;49m\u001b[43mkwargs\u001b[49m\u001b[43m)\u001b[49m\n",
      "File \u001b[0;32m~/anaconda3/envs/XYZ/lib/python3.10/site-packages/pymilvus/decorators.py:110\u001b[0m, in \u001b[0;36mretry_on_rpc_failure.<locals>.wrapper.<locals>.handler\u001b[0;34m(*args, **kwargs)\u001b[0m\n\u001b[1;32m    109\u001b[0m     \u001b[38;5;28;01melse\u001b[39;00m:\n\u001b[0;32m--> 110\u001b[0m         \u001b[38;5;28;01mraise\u001b[39;00m e \u001b[38;5;28;01mfrom\u001b[39;00m \u001b[38;5;21;01me\u001b[39;00m\n\u001b[1;32m    111\u001b[0m \u001b[38;5;28;01mexcept\u001b[39;00m \u001b[38;5;167;01mException\u001b[39;00m \u001b[38;5;28;01mas\u001b[39;00m e:\n",
      "File \u001b[0;32m~/anaconda3/envs/XYZ/lib/python3.10/site-packages/pymilvus/decorators.py:74\u001b[0m, in \u001b[0;36mretry_on_rpc_failure.<locals>.wrapper.<locals>.handler\u001b[0;34m(*args, **kwargs)\u001b[0m\n\u001b[1;32m     73\u001b[0m \u001b[38;5;28;01mtry\u001b[39;00m:\n\u001b[0;32m---> 74\u001b[0m     \u001b[38;5;28;01mreturn\u001b[39;00m \u001b[43mfunc\u001b[49m\u001b[43m(\u001b[49m\u001b[38;5;241;43m*\u001b[39;49m\u001b[43margs\u001b[49m\u001b[43m,\u001b[49m\u001b[43m \u001b[49m\u001b[38;5;241;43m*\u001b[39;49m\u001b[38;5;241;43m*\u001b[39;49m\u001b[43mkwargs\u001b[49m\u001b[43m)\u001b[49m\n\u001b[1;32m     75\u001b[0m \u001b[38;5;28;01mexcept\u001b[39;00m grpc\u001b[38;5;241m.\u001b[39mRpcError \u001b[38;5;28;01mas\u001b[39;00m e:\n\u001b[1;32m     76\u001b[0m     \u001b[38;5;66;03m# Reference: https://grpc.github.io/grpc/python/grpc.html#grpc-status-code\u001b[39;00m\n",
      "File \u001b[0;32m~/anaconda3/envs/XYZ/lib/python3.10/site-packages/pymilvus/client/grpc_handler.py:304\u001b[0m, in \u001b[0;36mGrpcHandler.create_collection\u001b[0;34m(self, collection_name, fields, timeout, **kwargs)\u001b[0m\n\u001b[1;32m    303\u001b[0m status \u001b[38;5;241m=\u001b[39m rf\u001b[38;5;241m.\u001b[39mresult()\n\u001b[0;32m--> 304\u001b[0m \u001b[43mcheck_status\u001b[49m\u001b[43m(\u001b[49m\u001b[43mstatus\u001b[49m\u001b[43m)\u001b[49m\n\u001b[1;32m    305\u001b[0m \u001b[38;5;28;01mreturn\u001b[39;00m \u001b[38;5;28;01mNone\u001b[39;00m\n",
      "File \u001b[0;32m~/anaconda3/envs/XYZ/lib/python3.10/site-packages/pymilvus/client/utils.py:54\u001b[0m, in \u001b[0;36mcheck_status\u001b[0;34m(status)\u001b[0m\n\u001b[1;32m     53\u001b[0m \u001b[38;5;28;01mif\u001b[39;00m status\u001b[38;5;241m.\u001b[39mcode \u001b[38;5;241m!=\u001b[39m \u001b[38;5;241m0\u001b[39m \u001b[38;5;129;01mor\u001b[39;00m status\u001b[38;5;241m.\u001b[39merror_code \u001b[38;5;241m!=\u001b[39m \u001b[38;5;241m0\u001b[39m:\n\u001b[0;32m---> 54\u001b[0m     \u001b[38;5;28;01mraise\u001b[39;00m MilvusException(status\u001b[38;5;241m.\u001b[39mcode, status\u001b[38;5;241m.\u001b[39mreason, status\u001b[38;5;241m.\u001b[39merror_code)\n",
      "\u001b[0;31mMilvusException\u001b[0m: <MilvusException: (code=65535, message=multiple vector fields is not supported, fields name: memory_vector, memory_vector_2)>",
      "\nThe above exception was the direct cause of the following exception:\n",
      "\u001b[0;31mMilvusException\u001b[0m                           Traceback (most recent call last)",
      "Cell \u001b[0;32mIn[13], line 12\u001b[0m\n\u001b[1;32m      1\u001b[0m coll_schema \u001b[38;5;241m=\u001b[39m CollectionSchema(\n\u001b[1;32m      2\u001b[0m   fields\u001b[38;5;241m=\u001b[39m[memory_id, character_id, importance, create_time, category, vector, vector_2, content, last_modified],\n\u001b[1;32m      3\u001b[0m   description\u001b[38;5;241m=\u001b[39m\u001b[38;5;124m\"\u001b[39m\u001b[38;5;124mmemory\u001b[39m\u001b[38;5;124m\"\u001b[39m,\n\u001b[0;32m   (...)\u001b[0m\n\u001b[1;32m      7\u001b[0m   enable_dynamic_field\u001b[38;5;241m=\u001b[39m\u001b[38;5;28;01mTrue\u001b[39;00m\n\u001b[1;32m      8\u001b[0m )\n\u001b[1;32m     10\u001b[0m collection_name \u001b[38;5;241m=\u001b[39m \u001b[38;5;124m\"\u001b[39m\u001b[38;5;124mcharacter_memory\u001b[39m\u001b[38;5;124m\"\u001b[39m\n\u001b[0;32m---> 12\u001b[0m collection \u001b[38;5;241m=\u001b[39m \u001b[43mCollection\u001b[49m\u001b[43m(\u001b[49m\n\u001b[1;32m     13\u001b[0m \u001b[43m    \u001b[49m\u001b[43mname\u001b[49m\u001b[38;5;241;43m=\u001b[39;49m\u001b[43mcollection_name\u001b[49m\u001b[43m,\u001b[49m\n\u001b[1;32m     14\u001b[0m \u001b[43m    \u001b[49m\u001b[43mschema\u001b[49m\u001b[38;5;241;43m=\u001b[39;49m\u001b[43mcoll_schema\u001b[49m\u001b[43m,\u001b[49m\n\u001b[1;32m     15\u001b[0m \u001b[43m    \u001b[49m\u001b[43musing\u001b[49m\u001b[38;5;241;43m=\u001b[39;49m\u001b[38;5;124;43m'\u001b[39;49m\u001b[38;5;124;43mdefault\u001b[39;49m\u001b[38;5;124;43m'\u001b[39;49m\u001b[43m,\u001b[49m\u001b[43m  \u001b[49m\u001b[38;5;66;43;03m# 在哪个 server 上创建 collection\u001b[39;49;00m\n\u001b[1;32m     16\u001b[0m \u001b[43m    \u001b[49m\u001b[43mshards_num\u001b[49m\u001b[38;5;241;43m=\u001b[39;49m\u001b[38;5;241;43m1\u001b[39;49m\u001b[43m,\u001b[49m\u001b[43m  \u001b[49m\u001b[38;5;66;43;03m# 把写入操作分配到 2 个不同的 node / server 上并行进行\u001b[39;49;00m\n\u001b[1;32m     17\u001b[0m \u001b[43m    \u001b[49m\n\u001b[1;32m     18\u001b[0m \u001b[43m)\u001b[49m\n",
      "File \u001b[0;32m~/anaconda3/envs/XYZ/lib/python3.10/site-packages/pymilvus/orm/collection.py:147\u001b[0m, in \u001b[0;36mCollection.__init__\u001b[0;34m(self, name, schema, using, **kwargs)\u001b[0m\n\u001b[1;32m    142\u001b[0m check_schema(schema)\n\u001b[1;32m    143\u001b[0m consistency_level \u001b[38;5;241m=\u001b[39m get_consistency_level(\n\u001b[1;32m    144\u001b[0m     kwargs\u001b[38;5;241m.\u001b[39mget(\u001b[38;5;124m\"\u001b[39m\u001b[38;5;124mconsistency_level\u001b[39m\u001b[38;5;124m\"\u001b[39m, DEFAULT_CONSISTENCY_LEVEL)\n\u001b[1;32m    145\u001b[0m )\n\u001b[0;32m--> 147\u001b[0m \u001b[43mconn\u001b[49m\u001b[38;5;241;43m.\u001b[39;49m\u001b[43mcreate_collection\u001b[49m\u001b[43m(\u001b[49m\u001b[38;5;28;43mself\u001b[39;49m\u001b[38;5;241;43m.\u001b[39;49m\u001b[43m_name\u001b[49m\u001b[43m,\u001b[49m\u001b[43m \u001b[49m\u001b[43mschema\u001b[49m\u001b[43m,\u001b[49m\u001b[43m \u001b[49m\u001b[38;5;241;43m*\u001b[39;49m\u001b[38;5;241;43m*\u001b[39;49m\u001b[43mkwargs\u001b[49m\u001b[43m)\u001b[49m\n\u001b[1;32m    148\u001b[0m \u001b[38;5;28mself\u001b[39m\u001b[38;5;241m.\u001b[39m_schema \u001b[38;5;241m=\u001b[39m schema\n\u001b[1;32m    149\u001b[0m \u001b[38;5;28mself\u001b[39m\u001b[38;5;241m.\u001b[39m_consistency_level \u001b[38;5;241m=\u001b[39m consistency_level\n",
      "File \u001b[0;32m~/anaconda3/envs/XYZ/lib/python3.10/site-packages/pymilvus/decorators.py:135\u001b[0m, in \u001b[0;36merror_handler.<locals>.wrapper.<locals>.handler\u001b[0;34m(*args, **kwargs)\u001b[0m\n\u001b[1;32m    133\u001b[0m     record_dict[\u001b[38;5;124m\"\u001b[39m\u001b[38;5;124mRPC error\u001b[39m\u001b[38;5;124m\"\u001b[39m] \u001b[38;5;241m=\u001b[39m \u001b[38;5;28mstr\u001b[39m(datetime\u001b[38;5;241m.\u001b[39mdatetime\u001b[38;5;241m.\u001b[39mnow())\n\u001b[1;32m    134\u001b[0m     LOGGER\u001b[38;5;241m.\u001b[39merror(\u001b[38;5;124mf\u001b[39m\u001b[38;5;124m\"\u001b[39m\u001b[38;5;124mRPC error: [\u001b[39m\u001b[38;5;132;01m{\u001b[39;00minner_name\u001b[38;5;132;01m}\u001b[39;00m\u001b[38;5;124m], \u001b[39m\u001b[38;5;132;01m{\u001b[39;00me\u001b[38;5;132;01m}\u001b[39;00m\u001b[38;5;124m, <Time:\u001b[39m\u001b[38;5;132;01m{\u001b[39;00mrecord_dict\u001b[38;5;132;01m}\u001b[39;00m\u001b[38;5;124m>\u001b[39m\u001b[38;5;124m\"\u001b[39m)\n\u001b[0;32m--> 135\u001b[0m     \u001b[38;5;28;01mraise\u001b[39;00m e \u001b[38;5;28;01mfrom\u001b[39;00m \u001b[38;5;21;01me\u001b[39;00m\n\u001b[1;32m    136\u001b[0m \u001b[38;5;28;01mexcept\u001b[39;00m grpc\u001b[38;5;241m.\u001b[39mFutureTimeoutError \u001b[38;5;28;01mas\u001b[39;00m e:\n\u001b[1;32m    137\u001b[0m     record_dict[\u001b[38;5;124m\"\u001b[39m\u001b[38;5;124mgRPC timeout\u001b[39m\u001b[38;5;124m\"\u001b[39m] \u001b[38;5;241m=\u001b[39m \u001b[38;5;28mstr\u001b[39m(datetime\u001b[38;5;241m.\u001b[39mdatetime\u001b[38;5;241m.\u001b[39mnow())\n",
      "File \u001b[0;32m~/anaconda3/envs/XYZ/lib/python3.10/site-packages/pymilvus/decorators.py:131\u001b[0m, in \u001b[0;36merror_handler.<locals>.wrapper.<locals>.handler\u001b[0;34m(*args, **kwargs)\u001b[0m\n\u001b[1;32m    129\u001b[0m \u001b[38;5;28;01mtry\u001b[39;00m:\n\u001b[1;32m    130\u001b[0m     record_dict[\u001b[38;5;124m\"\u001b[39m\u001b[38;5;124mRPC start\u001b[39m\u001b[38;5;124m\"\u001b[39m] \u001b[38;5;241m=\u001b[39m \u001b[38;5;28mstr\u001b[39m(datetime\u001b[38;5;241m.\u001b[39mdatetime\u001b[38;5;241m.\u001b[39mnow())\n\u001b[0;32m--> 131\u001b[0m     \u001b[38;5;28;01mreturn\u001b[39;00m \u001b[43mfunc\u001b[49m\u001b[43m(\u001b[49m\u001b[38;5;241;43m*\u001b[39;49m\u001b[43margs\u001b[49m\u001b[43m,\u001b[49m\u001b[43m \u001b[49m\u001b[38;5;241;43m*\u001b[39;49m\u001b[38;5;241;43m*\u001b[39;49m\u001b[43mkwargs\u001b[49m\u001b[43m)\u001b[49m\n\u001b[1;32m    132\u001b[0m \u001b[38;5;28;01mexcept\u001b[39;00m MilvusException \u001b[38;5;28;01mas\u001b[39;00m e:\n\u001b[1;32m    133\u001b[0m     record_dict[\u001b[38;5;124m\"\u001b[39m\u001b[38;5;124mRPC error\u001b[39m\u001b[38;5;124m\"\u001b[39m] \u001b[38;5;241m=\u001b[39m \u001b[38;5;28mstr\u001b[39m(datetime\u001b[38;5;241m.\u001b[39mdatetime\u001b[38;5;241m.\u001b[39mnow())\n",
      "File \u001b[0;32m~/anaconda3/envs/XYZ/lib/python3.10/site-packages/pymilvus/decorators.py:170\u001b[0m, in \u001b[0;36mtracing_request.<locals>.wrapper.<locals>.handler\u001b[0;34m(self, *args, **kwargs)\u001b[0m\n\u001b[1;32m    168\u001b[0m \u001b[38;5;28;01mif\u001b[39;00m req_id:\n\u001b[1;32m    169\u001b[0m     \u001b[38;5;28mself\u001b[39m\u001b[38;5;241m.\u001b[39mset_onetime_request_id(req_id)\n\u001b[0;32m--> 170\u001b[0m \u001b[38;5;28;01mreturn\u001b[39;00m \u001b[43mfunc\u001b[49m\u001b[43m(\u001b[49m\u001b[38;5;28;43mself\u001b[39;49m\u001b[43m,\u001b[49m\u001b[43m \u001b[49m\u001b[38;5;241;43m*\u001b[39;49m\u001b[43margs\u001b[49m\u001b[43m,\u001b[49m\u001b[43m \u001b[49m\u001b[38;5;241;43m*\u001b[39;49m\u001b[38;5;241;43m*\u001b[39;49m\u001b[43mkwargs\u001b[49m\u001b[43m)\u001b[49m\n",
      "File \u001b[0;32m~/anaconda3/envs/XYZ/lib/python3.10/site-packages/pymilvus/decorators.py:110\u001b[0m, in \u001b[0;36mretry_on_rpc_failure.<locals>.wrapper.<locals>.handler\u001b[0;34m(*args, **kwargs)\u001b[0m\n\u001b[1;32m    108\u001b[0m         back_off \u001b[38;5;241m=\u001b[39m \u001b[38;5;28mmin\u001b[39m(back_off \u001b[38;5;241m*\u001b[39m back_off_multiplier, max_back_off)\n\u001b[1;32m    109\u001b[0m     \u001b[38;5;28;01melse\u001b[39;00m:\n\u001b[0;32m--> 110\u001b[0m         \u001b[38;5;28;01mraise\u001b[39;00m e \u001b[38;5;28;01mfrom\u001b[39;00m \u001b[38;5;21;01me\u001b[39;00m\n\u001b[1;32m    111\u001b[0m \u001b[38;5;28;01mexcept\u001b[39;00m \u001b[38;5;167;01mException\u001b[39;00m \u001b[38;5;28;01mas\u001b[39;00m e:\n\u001b[1;32m    112\u001b[0m     \u001b[38;5;28;01mraise\u001b[39;00m e \u001b[38;5;28;01mfrom\u001b[39;00m \u001b[38;5;21;01me\u001b[39;00m\n",
      "File \u001b[0;32m~/anaconda3/envs/XYZ/lib/python3.10/site-packages/pymilvus/decorators.py:74\u001b[0m, in \u001b[0;36mretry_on_rpc_failure.<locals>.wrapper.<locals>.handler\u001b[0;34m(*args, **kwargs)\u001b[0m\n\u001b[1;32m     72\u001b[0m \u001b[38;5;28;01mwhile\u001b[39;00m \u001b[38;5;28;01mTrue\u001b[39;00m:\n\u001b[1;32m     73\u001b[0m     \u001b[38;5;28;01mtry\u001b[39;00m:\n\u001b[0;32m---> 74\u001b[0m         \u001b[38;5;28;01mreturn\u001b[39;00m \u001b[43mfunc\u001b[49m\u001b[43m(\u001b[49m\u001b[38;5;241;43m*\u001b[39;49m\u001b[43margs\u001b[49m\u001b[43m,\u001b[49m\u001b[43m \u001b[49m\u001b[38;5;241;43m*\u001b[39;49m\u001b[38;5;241;43m*\u001b[39;49m\u001b[43mkwargs\u001b[49m\u001b[43m)\u001b[49m\n\u001b[1;32m     75\u001b[0m     \u001b[38;5;28;01mexcept\u001b[39;00m grpc\u001b[38;5;241m.\u001b[39mRpcError \u001b[38;5;28;01mas\u001b[39;00m e:\n\u001b[1;32m     76\u001b[0m         \u001b[38;5;66;03m# Reference: https://grpc.github.io/grpc/python/grpc.html#grpc-status-code\u001b[39;00m\n\u001b[1;32m     77\u001b[0m         \u001b[38;5;28;01mif\u001b[39;00m e\u001b[38;5;241m.\u001b[39mcode() \u001b[38;5;129;01min\u001b[39;00m (\n\u001b[1;32m     78\u001b[0m             grpc\u001b[38;5;241m.\u001b[39mStatusCode\u001b[38;5;241m.\u001b[39mDEADLINE_EXCEEDED,\n\u001b[1;32m     79\u001b[0m             grpc\u001b[38;5;241m.\u001b[39mStatusCode\u001b[38;5;241m.\u001b[39mPERMISSION_DENIED,\n\u001b[0;32m   (...)\u001b[0m\n\u001b[1;32m     83\u001b[0m             grpc\u001b[38;5;241m.\u001b[39mStatusCode\u001b[38;5;241m.\u001b[39mRESOURCE_EXHAUSTED,\n\u001b[1;32m     84\u001b[0m         ):\n",
      "File \u001b[0;32m~/anaconda3/envs/XYZ/lib/python3.10/site-packages/pymilvus/client/grpc_handler.py:304\u001b[0m, in \u001b[0;36mGrpcHandler.create_collection\u001b[0;34m(self, collection_name, fields, timeout, **kwargs)\u001b[0m\n\u001b[1;32m    302\u001b[0m     \u001b[38;5;28;01mreturn\u001b[39;00m rf\n\u001b[1;32m    303\u001b[0m status \u001b[38;5;241m=\u001b[39m rf\u001b[38;5;241m.\u001b[39mresult()\n\u001b[0;32m--> 304\u001b[0m \u001b[43mcheck_status\u001b[49m\u001b[43m(\u001b[49m\u001b[43mstatus\u001b[49m\u001b[43m)\u001b[49m\n\u001b[1;32m    305\u001b[0m \u001b[38;5;28;01mreturn\u001b[39;00m \u001b[38;5;28;01mNone\u001b[39;00m\n",
      "File \u001b[0;32m~/anaconda3/envs/XYZ/lib/python3.10/site-packages/pymilvus/client/utils.py:54\u001b[0m, in \u001b[0;36mcheck_status\u001b[0;34m(status)\u001b[0m\n\u001b[1;32m     52\u001b[0m \u001b[38;5;28;01mdef\u001b[39;00m \u001b[38;5;21mcheck_status\u001b[39m(status: Status):\n\u001b[1;32m     53\u001b[0m     \u001b[38;5;28;01mif\u001b[39;00m status\u001b[38;5;241m.\u001b[39mcode \u001b[38;5;241m!=\u001b[39m \u001b[38;5;241m0\u001b[39m \u001b[38;5;129;01mor\u001b[39;00m status\u001b[38;5;241m.\u001b[39merror_code \u001b[38;5;241m!=\u001b[39m \u001b[38;5;241m0\u001b[39m:\n\u001b[0;32m---> 54\u001b[0m         \u001b[38;5;28;01mraise\u001b[39;00m MilvusException(status\u001b[38;5;241m.\u001b[39mcode, status\u001b[38;5;241m.\u001b[39mreason, status\u001b[38;5;241m.\u001b[39merror_code)\n",
      "\u001b[0;31mMilvusException\u001b[0m: <MilvusException: (code=65535, message=multiple vector fields is not supported, fields name: memory_vector, memory_vector_2)>"
     ]
    }
   ],
   "source": [
    "\n",
    "coll_schema = CollectionSchema(\n",
    "  fields=[memory_id, character_id, importance, create_time, category, vector, vector_2, content, last_modified],\n",
    "  description=\"memory\",\n",
    "  \n",
    "  # 不开启 dynamic 意味着之后插入的所有数据实体都要与 schema 匹配；而开启后，可以插入具有新字段的实体，有点类似 nonsql\n",
    "  # https://milvus.io/docs/dynamic_schema.md#Create-collection-with-dynamic-schema-enabled\n",
    "  enable_dynamic_field=True\n",
    ")\n",
    "\n",
    "collection_name = \"character_memory\"\n",
    "\n",
    "collection = Collection(\n",
    "    name=collection_name,\n",
    "    schema=coll_schema,\n",
    "    using='default',  # 在哪个 server 上创建 collection\n",
    "    shards_num=1,  # 把写入操作分配到 2 个不同的 node / server 上并行进行\n",
    "    \n",
    ")"
   ]
  },
  {
   "cell_type": "code",
   "execution_count": 7,
   "metadata": {},
   "outputs": [],
   "source": [
    "start_date = datetime.date(2018, 1, 1)\n",
    "end_date = datetime.date(2024, 12, 31)\n",
    "\n",
    "def random_date():\n",
    "    \"\"\"Generate a random date between `start_date` and `end_date`\"\"\"\n",
    "    time_between_dates = end_date - start_date\n",
    "    days_between_dates = time_between_dates.days\n",
    "    random_number_of_days = random.randrange(days_between_dates)\n",
    "    random_date = start_date + datetime.timedelta(days=random_number_of_days)\n",
    "    return random_date"
   ]
  },
  {
   "cell_type": "code",
   "execution_count": 8,
   "metadata": {},
   "outputs": [],
   "source": [
    "entities = [\n",
    "  [i for i in range(3000)],\n",
    "  [i for i in range(3000)],\n",
    "  [random.choice([1, 2]) for i in range(3000)],\n",
    "  [random_date().strftime('%Y-%m-%d') for _ in range(3000)],\n",
    "  [\"observation\" for _ in range(3000)],\n",
    "  [[random.randint(0, 10)] * 1024 for _ in range(3000)],\n",
    "[[random.randint(0, 10)] * 1024 for _ in range(3000)], \n",
    "  [\"The test content\" for _ in range(3000)],\n",
    "  [random_date().strftime('%Y-%m-%d') for _ in range(3000)],\n",
    "]"
   ]
  },
  {
   "cell_type": "code",
   "execution_count": 9,
   "metadata": {},
   "outputs": [
    {
     "ename": "DataNotMatchException",
     "evalue": "<DataNotMatchException: (code=1, message=The data don't match with schema fields, expect 8 list, got 9)>",
     "output_type": "error",
     "traceback": [
      "\u001b[0;31m---------------------------------------------------------------------------\u001b[0m",
      "\u001b[0;31mDataNotMatchException\u001b[0m                     Traceback (most recent call last)",
      "Cell \u001b[0;32mIn[9], line 2\u001b[0m\n\u001b[1;32m      1\u001b[0m collection \u001b[38;5;241m=\u001b[39m Collection(\u001b[38;5;124m\"\u001b[39m\u001b[38;5;124mcharacter_memory\u001b[39m\u001b[38;5;124m\"\u001b[39m)  \n\u001b[0;32m----> 2\u001b[0m \u001b[43mcollection\u001b[49m\u001b[38;5;241;43m.\u001b[39;49m\u001b[43minsert\u001b[49m\u001b[43m(\u001b[49m\u001b[43mentities\u001b[49m\u001b[43m)\u001b[49m \n",
      "File \u001b[0;32m~/anaconda3/envs/XYZ/lib/python3.10/site-packages/pymilvus/orm/collection.py:495\u001b[0m, in \u001b[0;36mCollection.insert\u001b[0;34m(self, data, partition_name, timeout, **kwargs)\u001b[0m\n\u001b[1;32m    493\u001b[0m conn \u001b[38;5;241m=\u001b[39m \u001b[38;5;28mself\u001b[39m\u001b[38;5;241m.\u001b[39m_get_connection()\n\u001b[1;32m    494\u001b[0m \u001b[38;5;28;01mif\u001b[39;00m \u001b[38;5;129;01mnot\u001b[39;00m row_based:\n\u001b[0;32m--> 495\u001b[0m     \u001b[43mcheck_insert_schema\u001b[49m\u001b[43m(\u001b[49m\u001b[38;5;28;43mself\u001b[39;49m\u001b[38;5;241;43m.\u001b[39;49m\u001b[43m_schema\u001b[49m\u001b[43m,\u001b[49m\u001b[43m \u001b[49m\u001b[43mdata\u001b[49m\u001b[43m)\u001b[49m\n\u001b[1;32m    496\u001b[0m     entities \u001b[38;5;241m=\u001b[39m Prepare\u001b[38;5;241m.\u001b[39mprepare_insert_data(data, \u001b[38;5;28mself\u001b[39m\u001b[38;5;241m.\u001b[39m_schema)\n\u001b[1;32m    497\u001b[0m     res \u001b[38;5;241m=\u001b[39m conn\u001b[38;5;241m.\u001b[39mbatch_insert(\n\u001b[1;32m    498\u001b[0m         \u001b[38;5;28mself\u001b[39m\u001b[38;5;241m.\u001b[39m_name,\n\u001b[1;32m    499\u001b[0m         entities,\n\u001b[0;32m   (...)\u001b[0m\n\u001b[1;32m    503\u001b[0m         \u001b[38;5;241m*\u001b[39m\u001b[38;5;241m*\u001b[39mkwargs,\n\u001b[1;32m    504\u001b[0m     )\n",
      "File \u001b[0;32m~/anaconda3/envs/XYZ/lib/python3.10/site-packages/pymilvus/orm/schema.py:457\u001b[0m, in \u001b[0;36mcheck_insert_schema\u001b[0;34m(schema, data)\u001b[0m\n\u001b[1;32m    454\u001b[0m     columns\u001b[38;5;241m.\u001b[39mremove(schema\u001b[38;5;241m.\u001b[39mprimary_field)\n\u001b[1;32m    455\u001b[0m     data \u001b[38;5;241m=\u001b[39m data[[columns]]\n\u001b[0;32m--> 457\u001b[0m \u001b[43m_check_data_schema_cnt\u001b[49m\u001b[43m(\u001b[49m\u001b[43mschema\u001b[49m\u001b[43m,\u001b[49m\u001b[43m \u001b[49m\u001b[43mdata\u001b[49m\u001b[43m)\u001b[49m\n\u001b[1;32m    458\u001b[0m _check_insert_data(data)\n",
      "File \u001b[0;32m~/anaconda3/envs/XYZ/lib/python3.10/site-packages/pymilvus/orm/schema.py:436\u001b[0m, in \u001b[0;36m_check_data_schema_cnt\u001b[0;34m(schema, data)\u001b[0m\n\u001b[1;32m    433\u001b[0m         t_name \u001b[38;5;241m=\u001b[39m \u001b[38;5;28mlist\u001b[39m(data\u001b[38;5;241m.\u001b[39mcolumns)\n\u001b[1;32m    434\u001b[0m         message \u001b[38;5;241m=\u001b[39m \u001b[38;5;124mf\u001b[39m\u001b[38;5;124m\"\u001b[39m\u001b[38;5;124mThe fields don\u001b[39m\u001b[38;5;124m'\u001b[39m\u001b[38;5;124mt match with schema fields, expected: \u001b[39m\u001b[38;5;132;01m{\u001b[39;00mi_name\u001b[38;5;132;01m}\u001b[39;00m\u001b[38;5;124m, got \u001b[39m\u001b[38;5;132;01m{\u001b[39;00mt_name\u001b[38;5;132;01m}\u001b[39;00m\u001b[38;5;124m\"\u001b[39m\n\u001b[0;32m--> 436\u001b[0m     \u001b[38;5;28;01mraise\u001b[39;00m DataNotMatchException(message\u001b[38;5;241m=\u001b[39mmessage)\n\u001b[1;32m    438\u001b[0m \u001b[38;5;28;01mif\u001b[39;00m is_dataframe:\n\u001b[1;32m    439\u001b[0m     \u001b[38;5;28;01mfor\u001b[39;00m x, y \u001b[38;5;129;01min\u001b[39;00m \u001b[38;5;28mzip\u001b[39m(\u001b[38;5;28mlist\u001b[39m(data\u001b[38;5;241m.\u001b[39mcolumns), tmp_fields):\n",
      "\u001b[0;31mDataNotMatchException\u001b[0m: <DataNotMatchException: (code=1, message=The data don't match with schema fields, expect 8 list, got 9)>"
     ]
    }
   ],
   "source": [
    "collection = Collection(\"character_memory\")  \n",
    "collection.insert(entities) "
   ]
  }
 ],
 "metadata": {
  "kernelspec": {
   "display_name": "XYZ",
   "language": "python",
   "name": "python3"
  },
  "language_info": {
   "codemirror_mode": {
    "name": "ipython",
    "version": 3
   },
   "file_extension": ".py",
   "mimetype": "text/x-python",
   "name": "python",
   "nbconvert_exporter": "python",
   "pygments_lexer": "ipython3",
   "version": "3.10.13"
  }
 },
 "nbformat": 4,
 "nbformat_minor": 2
}
