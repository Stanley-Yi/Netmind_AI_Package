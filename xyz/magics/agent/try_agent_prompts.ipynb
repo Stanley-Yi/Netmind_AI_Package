{
 "cells": [
  {
   "cell_type": "code",
   "execution_count": 1,
   "metadata": {},
   "outputs": [],
   "source": [
    "import sys\n",
    "import os\n",
    "sys.path.append(\"../../..\")\n",
    "\n",
    "\n",
    "import numpy as np\n",
    "from user_settings import *\n",
    "from CoreAgent import CoreAgent\n",
    "from ThinkingFlow import ThinkingFlow\n",
    "from prompts import *\n",
    "\n",
    "\n",
    "# define energy identify and divide agent\n",
    "task_evaluating_agent = CoreAgent(template=task_evaluating_prompt_new)\n",
    "task_dividing_agent = CoreAgent(template=task_dividing_prompt_new)"
   ]
  },
  {
   "cell_type": "markdown",
   "metadata": {},
   "source": [
    "### task_evaluating_agent"
   ]
  },
  {
   "cell_type": "code",
   "execution_count": 2,
   "metadata": {},
   "outputs": [],
   "source": [
    "test_task1 = \"\"\"You will become a researcher on multi-llm agent framework. You need to read paper/code of current state of art framework of multi-llm agents. Ultimately, I want you to be able to \n",
    "design and implement your own structure with useful difference compare to the existing structures\"\"\"\n",
    "test_task2= \"I want to keep promote my product to customer, I want to know how to do it online and offline\"\n",
    "sub_test_task1 = \"\"\"Establish a Foundation in Multi-Agent Systems\\n- Begin by reading introductory materials on multi-agent systems to understand the basic concepts, terminology, and theoretical underpinnings.\n",
    "\\n- Identify and complete any prerequisite learning, such as courses or tutorials on artificial intelligence, machine learning, and software engineering principles relevant to multi-agent systems.\"\"\"\n",
    "sub_test_task2 = \"\"\"Conduct a Literature Review\\n- Search for and compile a list of recent papers and articles on multi-agent systems, specifically focusing on frameworks that utilize language learning models (LLMs).\n",
    "\\n- Organize the literature by themes, such as architecture, communication protocols, learning strategies, and application domains.\"\"\""
   ]
  },
  {
   "cell_type": "code",
   "execution_count": 3,
   "metadata": {},
   "outputs": [
    {
     "data": {
      "text/plain": [
       "'Time needed:\\n100000 hours\\n\\nComplexity score:\\n100'"
      ]
     },
     "execution_count": 3,
     "metadata": {},
     "output_type": "execute_result"
    }
   ],
   "source": [
    "task_evaluating_agent.run(current_task=test_task1)"
   ]
  },
  {
   "cell_type": "code",
   "execution_count": 7,
   "metadata": {},
   "outputs": [
    {
     "data": {
      "text/plain": [
       "'Time needed:\\n200 hours\\n\\nComplexity score:\\n80'"
      ]
     },
     "execution_count": 7,
     "metadata": {},
     "output_type": "execute_result"
    }
   ],
   "source": [
    "task_evaluating_agent.run(current_task=sub_test_task1)"
   ]
  },
  {
   "cell_type": "code",
   "execution_count": 8,
   "metadata": {},
   "outputs": [
    {
     "data": {
      "text/plain": [
       "'Time needed:\\n40 hours\\n\\nComplexity score:\\n65'"
      ]
     },
     "execution_count": 8,
     "metadata": {},
     "output_type": "execute_result"
    }
   ],
   "source": [
    "task_evaluating_agent.run(current_task=sub_test_task2)"
   ]
  },
  {
   "cell_type": "markdown",
   "metadata": {},
   "source": [
    "### task_dividing_agent"
   ]
  },
  {
   "cell_type": "code",
   "execution_count": 3,
   "metadata": {},
   "outputs": [
    {
     "data": {
      "text/plain": [
       "\"Step1 (initial): Define the product and target audience\\n- Identify the unique selling points (USPs) of the product\\n- Determine the demographics and psychographics of the target audience\\n\\nStep2 (following Step1): Set clear marketing objectives\\n- Decide what you want to achieve (e.g., brand awareness, sales increase, customer engagement)\\n\\nStep3 (following Step2): Establish a budget\\n- Determine the overall budget for marketing activities\\n- Allocate funds for both online and offline strategies\\n\\nStep4 (following Step3): Develop a marketing plan\\n- Outline the strategies and tactics to be used\\n- Create a timeline for implementation\\n\\nStep5 (following Step4): Online marketing strategy development\\n- Research the most effective online platforms for your target audience\\n\\nStep6 (option Step5): Create a website or optimize an existing one\\n- Ensure the website is user-friendly and optimized for search engines (SEO)\\n- Include clear product information and a call to action (CTA)\\n\\nStep7 (option Step5): Utilize social media\\n- Choose the right social media platforms based on your audience\\n- Plan content and posting schedule\\n\\nStep8 (option Step5): Implement email marketing\\n- Build an email list\\n- Design email campaigns\\n\\nStep9 (option Step5): Explore online advertising\\n- Look into pay-per-click (PPC) campaigns, display ads, and social media ads\\n- Set up tracking for performance analysis\\n\\nStep10 (following Step4): Offline marketing strategy development\\n- Identify offline channels that reach your target audience\\n\\nStep11 (option Step10): Networking and events\\n- Attend industry events, trade shows, and networking events\\n- Plan and prepare materials for event promotion\\n\\nStep12 (option Step10): Traditional advertising\\n- Consider print, radio, or television ads\\n- Design ad creatives and select appropriate media outlets\\n\\nStep13 (option Step10): Direct mail\\n- Design and send out brochures, flyers, or postcards\\n- Target specific geographic areas or demographics\\n\\nStep14 (option Step10): In-store promotions\\n- Plan in-store events or special promotions\\n- Create point-of-sale displays or materials\\n\\nStep15 (following Step4): Execute the marketing plan\\n- Implement the strategies outlined in the marketing plan\\n- Monitor progress and adjust tactics as necessary\\n\\nStep16 (following Step15): Measure and analyze results\\n- Collect data from both online and offline marketing efforts\\n- Use analytics tools to measure success against objectives\\n\\nStep17 (following Step16): Refine and adjust strategies\\n- Review what worked and what didn't\\n- Make necessary adjustments to improve future marketing efforts\""
      ]
     },
     "execution_count": 3,
     "metadata": {},
     "output_type": "execute_result"
    }
   ],
   "source": [
    "task_dividing_agent.run(current_task=test_task2)"
   ]
  },
  {
   "cell_type": "markdown",
   "metadata": {},
   "source": [
    "### momentum thinking flow\n"
   ]
  },
  {
   "cell_type": "code",
   "execution_count": 3,
   "metadata": {},
   "outputs": [],
   "source": [
    "from xyz.magics.agent.MomentumThinkingFlow import MomentumThinkingflow"
   ]
  },
  {
   "cell_type": "code",
   "execution_count": 4,
   "metadata": {},
   "outputs": [],
   "source": [
    "test_momentum_tf = MomentumThinkingflow()"
   ]
  },
  {
   "cell_type": "code",
   "execution_count": 5,
   "metadata": {},
   "outputs": [
    {
     "data": {
      "text/plain": [
       "array([100000.,    100.])"
      ]
     },
     "execution_count": 5,
     "metadata": {},
     "output_type": "execute_result"
    }
   ],
   "source": [
    "test_momentum_tf.get_energy(task=test_task1)"
   ]
  },
  {
   "cell_type": "code",
   "execution_count": 6,
   "metadata": {},
   "outputs": [
    {
     "data": {
      "text/plain": [
       "array([200.,  80.])"
      ]
     },
     "execution_count": 6,
     "metadata": {},
     "output_type": "execute_result"
    }
   ],
   "source": [
    "test_momentum_tf.get_energy(task=sub_test_task1)"
   ]
  },
  {
   "cell_type": "code",
   "execution_count": 5,
   "metadata": {},
   "outputs": [
    {
     "data": {
      "text/plain": [
       "[('Step1',\n",
       "  'initial',\n",
       "  'Define the product and target audience - Identify the unique selling points (USPs) of the product - Determine the demographics and psychographics of the target audience'),\n",
       " ('Step2',\n",
       "  'Step1',\n",
       "  'Set clear marketing objectives - Decide what you want to achieve (e.g., brand awareness, sales increase, customer engagement)'),\n",
       " ('Step3',\n",
       "  'Step2',\n",
       "  'Budget planning - Allocate a budget for both online and offline marketing strategies'),\n",
       " ('Step4',\n",
       "  'Step3',\n",
       "  'Develop a marketing message - Create a compelling message that resonates with your target audience'),\n",
       " ('Step5',\n",
       "  'Step4',\n",
       "  'Choose online marketing strategies - Option Step5: Social media marketing - Option Step5: Email marketing - Option Step5: Content marketing (blogs, articles, videos) - Option Step5: Search engine optimization (SEO) - Option Step5: Pay-per-click advertising (PPC) - Option Step5: Influencer partnerships'),\n",
       " ('Step6',\n",
       "  'Step5',\n",
       "  'Choose offline marketing strategies - Option Step6: Print advertising (magazines, newspapers, brochures) - Option Step6: Direct mail campaigns - Option Step6: Networking events and trade shows - Option Step6: Radio or TV commercials - Option Step6: Outdoor advertising (billboards, posters)'),\n",
       " ('Step7',\n",
       "  'Step5',\n",
       "  'Implement online marketing strategies - Step7.1 (following Step7): Set up social media profiles/pages - Step7.2 (following Step7): Create an email marketing list and design email templates - Step7.3 (following Step7): Develop a content calendar for blogs, articles, and videos - Step7.4 (following Step7): Optimize website and content for search engines - Step7.5 (following Step7): Set up PPC campaigns on platforms like Google Ads - Step7.6 (following Step7): Reach out to influencers for collaboration'),\n",
       " ('Step8',\n",
       "  'Step6',\n",
       "  'Implement offline marketing strategies - Step8.1 (following Step8): Design and print marketing materials - Step8.2 (following Step8): Plan and execute direct mail campaigns - Step8.3 (following Step8): Register for networking events and prepare promotional materials - Step8.4 (following Step8): Produce radio or TV commercials and schedule airtime - Step8.5 (following Step8): Secure locations for outdoor advertising and create the artwork'),\n",
       " ('Step10',\n",
       "  'Step9',\n",
       "  'Adjust marketing strategies based on performance data - Refine online and offline marketing tactics to improve results - Reallocate budget if necessary to more effective channels'),\n",
       " ('Step11',\n",
       "  'Step10',\n",
       "  'Continuously update and optimize marketing efforts - Keep content fresh and relevant for online strategies - Explore new offline marketing opportunities and partnerships'),\n",
       " ('Step12',\n",
       "  'Step11',\n",
       "  'Solicit customer feedback - Use surveys, feedback forms, and social media engagement to gather customer opinions'),\n",
       " ('Step13',\n",
       "  'Step12',\n",
       "  'Incorporate feedback into future marketing plans - Make adjustments to product offerings or marketing tactics based on customer insights'),\n",
       " ('Step14',\n",
       "  'Step13',\n",
       "  'Repeat the process - Regularly review and update the marketing plan to ensure ongoing effectiveness')]"
      ]
     },
     "execution_count": 5,
     "metadata": {},
     "output_type": "execute_result"
    }
   ],
   "source": [
    "test_momentum_tf.divide_task(task=test_task2)"
   ]
  },
  {
   "cell_type": "code",
   "execution_count": 8,
   "metadata": {},
   "outputs": [
    {
     "data": {
      "text/plain": [
       "[{'Step': 'Step 1: Establish a Foundation',\n",
       "  'Description': '**1.1:** Familiarize yourself with the basics of LLMs and multi-agent systems.\\n- **1.2:** Identify and gather foundational papers and resources on LLMs.\\n- **1.3:** Read through introductory materials to understand the core concepts and terminology.'},\n",
       " {'Step': 'Step 2: Conduct a Literature Review',\n",
       "  'Description': \"**2.1:** Search for recent papers on multi-LLM agent frameworks using academic databases like Google Scholar, arXiv, and IEEE Xplore.\\n- **2.2:** Create a document to summarize each paper's key points, contributions, and methodologies.\\n- **2.3:** Identify the current state-of-the-art frameworks and their limitations.\"},\n",
       " {'Step': 'Step 3: Deepen Your Understanding',\n",
       "  'Description': '**3.1:** Select a few state-of-the-art frameworks to study in-depth.\\n- **3.2:** Read the selected papers thoroughly and take detailed notes.\\n- **3.3:** Reach out to authors or experts if you have questions or need clarifications.'},\n",
       " {'Step': 'Step 4: Gain Practical Experience',\n",
       "  'Description': '**4.1:** Find and download the code repositories of the selected frameworks (if available).\\n- **4.2:** Set up a coding environment to run and experiment with the existing frameworks.\\n- **4.3:** Replicate the results from the papers to ensure you understand the implementations.'},\n",
       " {'Step': 'Step 5: Identify Potential Improvements',\n",
       "  'Description': '**5.1:** Analyze the strengths and weaknesses of the current frameworks.\\n- **5.2:** Brainstorm possible improvements or new features that could address the identified weaknesses.\\n- **5.3:** Validate your ideas through discussions with peers or mentors.'},\n",
       " {'Step': 'Step 6: Design Your Framework',\n",
       "  'Description': '**6.1:** Outline the architecture of your own multi-LLM agent framework.\\n- **6.2:** Define the unique features and differences that your framework will have.\\n- **6.3:** Create a detailed design document specifying the components and interactions within your framework.'},\n",
       " {'Step': 'Step 7: Develop a Prototype',\n",
       "  'Description': '**7.1:** Break down the implementation into smaller coding tasks.\\n- **7.2:** Start coding the core components of your framework.\\n- **7.3:** Regularly test each component to ensure functionality.'},\n",
       " {'Step': 'Step 8: Test and Iterate',\n",
       "  'Description': '**8.1:** Integrate the components into a working prototype.\\n- **8.2:** Conduct thorough testing to identify bugs and performance issues.\\n- **8.3:** Refine and optimize your framework based on feedback and test results.'},\n",
       " {'Step': 'Step 9: Document and Share Your Work',\n",
       "  'Description': \"**9.1:** Write comprehensive documentation for your framework.\\n- **9.2:** Prepare a research paper detailing your framework's design, implementation, and advantages over existing solutions.\\n- **9.3:** Submit your work to academic journals or conferences and share it with the research community.\"},\n",
       " {'Step': 'Step 10: Seek Feedback and Collaborate',\n",
       "  'Description': '**10.1:** Present your work at seminars, workshops, or conferences to get feedback.\\n- **10.2:** Collaborate with other researchers to further develop or integrate your framework.\\n- **10.3:** Continuously update your knowledge and improve your framework based on the evolving landscape of multi-LLM agent research.\\n\\nRemember to pace yourself and tackle each step methodically. Good luck with your research journey!'}]"
      ]
     },
     "execution_count": 8,
     "metadata": {},
     "output_type": "execute_result"
    }
   ],
   "source": [
    "test_momentum_tf.divided_tasks_extraction(task_dividing_agent.run(current_task=test_task1))"
   ]
  },
  {
   "cell_type": "code",
   "execution_count": 7,
   "metadata": {},
   "outputs": [
    {
     "data": {
      "text/plain": [
       "['Step 1: Define the Scope and ObjectivesIdentify the specific area of multi-agent systems you are interested in (e.g., robotics, virtual agents, etc.).\\n- Clarify what you mean by \"useful difference\" and set clear objectives for your research and development.',\n",
       " 'Step 2: Conduct a Preliminary SurveySearch for recent surveys or review papers on multi-agent systems to get an overview of the field.\\n- List down the key terms, concepts, and frameworks mentioned in these surveys.',\n",
       " 'Step 3: Literature ReviewUse academic databases like Google Scholar, IEEE Xplore, and others to find state-of-the-art papers on multi-agent systems.\\n- Read abstracts and conclusions to select relevant papers for detailed study.\\n- Organize the papers into categories based on similarities in approaches or applications.',\n",
       " 'Step 4: Deep Dive into Selected PapersRead the selected papers in detail, focusing on methodology, experiments, and results.\\n- Take notes on the strengths and weaknesses of each framework.\\n- Summarize each paper for future reference.',\n",
       " \"Step 5: Study Existing CodeFind open-source code repositories related to the papers you've studied.\\n- Set up a coding environment to run and experiment with the existing frameworks.\\n- Document your understanding of the code structure and algorithms used.\",\n",
       " 'Step 6: Identify Gaps and OpportunitiesBased on your literature review and code study, identify gaps in the current research or potential improvements.\\n- Brainstorm how your work could fill these gaps or offer a novel contribution.',\n",
       " 'Step 7: Learn Necessary SkillsIdentify any skills or knowledge gaps you have (e.g., programming languages, machine learning techniques).\\n- Take online courses, tutorials, or workshops to acquire these skills.',\n",
       " 'Step 8: Develop a Conceptual DesignSketch out the conceptual design of your multi-agent framework.\\n- Define the architecture, components, and how they will interact.\\n- Get feedback from peers or mentors on your design.',\n",
       " 'Step 9: Plan the ImplementationBreak down the implementation into smaller tasks (e.g., setting up the environment, implementing individual modules).\\n- Create a timeline for completing each task.\\n- Determine the resources you need (e.g., software tools, computational resources).',\n",
       " 'Step 10: Prototype DevelopmentStart coding the simplest version of your framework to test the core ideas.\\n- Iteratively develop and test each component.\\n- Document your progress and any changes to the design.',\n",
       " \"Step 11: Testing and EvaluationDevelop test cases and scenarios to evaluate your framework's performance.\\n- Compare the results with existing frameworks.\\n- Refine your framework based on the test results.\",\n",
       " 'Step 12: Documentation and DisseminationWrite detailed documentation for your framework, including setup instructions, usage examples, and design rationale.\\n- Consider publishing your work in academic journals or at conferences.\\n- Share your code in a public repository for community feedback and collaboration.',\n",
       " 'Step 13: Reflect and IterateReflect on the feedback received and the performance of your framework.\\n- Plan for further iterations to improve or extend your framework.\\n- Stay updated with new research and incorporate relevant findings into your work.']"
      ]
     },
     "execution_count": 7,
     "metadata": {},
     "output_type": "execute_result"
    }
   ],
   "source": [
    "test_momentum_tf.divided_tasks_extraction(task_dividing_agent.run(current_task=test_task1))"
   ]
  },
  {
   "cell_type": "markdown",
   "metadata": {},
   "source": [
    "### Test MomentumModule divide task functions"
   ]
  },
  {
   "cell_type": "code",
   "execution_count": 8,
   "metadata": {},
   "outputs": [],
   "source": [
    "from xyz.magics.momentum.MomentumModule import MomentumModule\n",
    "from xyz.magics.agent.MomentumThinkingFlow import MomentumThinkingflow\n",
    "\n",
    "test_momentum_tf = MomentumThinkingflow()\n",
    "test_task1 = \"\"\"You will become a researcher on multi-llm agent framework. You need to read paper/code of current state of art framework of multi-llm agents. Ultimately, I want you to be able to \n",
    "design and implement your own structure with useful difference compare to the existing structures\"\"\"\n",
    "sub_test_task1 = \"\"\"Establish a Foundation in Multi-Agent Systems\\n- Begin by reading introductory materials on multi-agent systems to understand the basic concepts, terminology, and theoretical underpinnings.\n",
    "\\n- Identify and complete any prerequisite learning, such as courses or tutorials on artificial intelligence, machine learning, and software engineering principles relevant to multi-agent systems.\"\"\"\n",
    "sub_test_task2 = \"\"\"Conduct a Literature Review\\n- Search for and compile a list of recent papers and articles on multi-agent systems, specifically focusing on frameworks that utilize language learning models (LLMs).\n",
    "\\n- Organize the literature by themes, such as architecture, communication protocols, learning strategies, and application domains.\"\"\""
   ]
  },
  {
   "cell_type": "code",
   "execution_count": 9,
   "metadata": {},
   "outputs": [],
   "source": [
    "testMomentum = MomentumModule(goal=test_task1, longterm_memory=None, shortterm_memory=None, thinkingflow=test_momentum_tf)"
   ]
  },
  {
   "cell_type": "code",
   "execution_count": 10,
   "metadata": {},
   "outputs": [
    {
     "data": {
      "text/plain": [
       "array([1000.,   90.])"
      ]
     },
     "execution_count": 10,
     "metadata": {},
     "output_type": "execute_result"
    }
   ],
   "source": [
    "testMomentum.energy"
   ]
  },
  {
   "cell_type": "code",
   "execution_count": 11,
   "metadata": {},
   "outputs": [
    {
     "name": "stdout",
     "output_type": "stream",
     "text": [
      "\n",
      "retrying, this is 1 time\n"
     ]
    }
   ],
   "source": [
    "decomposed_list = testMomentum.decompose()"
   ]
  },
  {
   "cell_type": "code",
   "execution_count": 12,
   "metadata": {},
   "outputs": [
    {
     "data": {
      "text/plain": [
       "[<xyz.magics.momentum.MomentumModule.MomentumModule at 0x7ff02f408c40>,\n",
       " <xyz.magics.momentum.MomentumModule.MomentumModule at 0x7ff02f40af80>,\n",
       " <xyz.magics.momentum.MomentumModule.MomentumModule at 0x7ff02f40afe0>,\n",
       " <xyz.magics.momentum.MomentumModule.MomentumModule at 0x7ff02f408d00>,\n",
       " <xyz.magics.momentum.MomentumModule.MomentumModule at 0x7ff030429a20>,\n",
       " <xyz.magics.momentum.MomentumModule.MomentumModule at 0x7ff02f40aec0>,\n",
       " <xyz.magics.momentum.MomentumModule.MomentumModule at 0x7ff032351750>,\n",
       " <xyz.magics.momentum.MomentumModule.MomentumModule at 0x7ff03235e590>,\n",
       " <xyz.magics.momentum.MomentumModule.MomentumModule at 0x7ff03235dba0>,\n",
       " <xyz.magics.momentum.MomentumModule.MomentumModule at 0x7ff03235f430>]"
      ]
     },
     "execution_count": 12,
     "metadata": {},
     "output_type": "execute_result"
    }
   ],
   "source": [
    "decomposed_list"
   ]
  },
  {
   "cell_type": "code",
   "execution_count": 9,
   "metadata": {},
   "outputs": [
    {
     "name": "stdout",
     "output_type": "stream",
     "text": [
      "[('Step1', 'initial', 'Define the product and target audience - Identify the unique selling points (USPs) of the product - Determine the demographics and psychographics of the target audience'), ('Step2', 'Step1', 'Set clear marketing objectives - Decide what you want to achieve (e.g., brand awareness, sales increase, customer engagement)'), ('Step3', 'Step2', 'Establish a budget - Determine the overall budget for marketing activities - Allocate funds for both online and offline strategies'), ('Step4', 'Step3', 'Develop a marketing plan - Outline the strategies and tactics to be used - Create a timeline for implementation'), ('Step5', 'Step4', 'Online marketing strategy development - Research the most effective online platforms for your target audience'), ('Step6', 'Step5', 'Create a website or optimize an existing one - Ensure the website is user-friendly and optimized for search engines (SEO) - Include clear product information and a call to action (CTA)'), ('Step7', 'Step5', 'Utilize social media - Choose the right social media platforms based on your audience - Plan content and posting schedule'), ('Step8', 'Step5', 'Implement email marketing - Build an email list - Design email campaigns'), ('Step9', 'Step5', 'Explore online advertising - Look into pay-per-click (PPC) campaigns, display ads, and social media ads - Set up tracking for performance analysis'), ('Step10', 'Step4', 'Offline marketing strategy development - Identify offline channels that reach your target audience'), ('Step11', 'Step10', 'Networking and events - Attend industry events, trade shows, and networking events - Plan and prepare materials for event promotion'), ('Step12', 'Step10', 'Traditional advertising - Consider print, radio, or television ads - Design ad creatives and select appropriate media outlets'), ('Step13', 'Step10', 'Direct mail - Design and send out brochures, flyers, or postcards - Target specific geographic areas or demographics'), ('Step14', 'Step10', 'In-store promotions - Plan in-store events or special promotions - Create point-of-sale displays or materials'), ('Step15', 'Step4', 'Execute the marketing plan - Implement the strategies outlined in the marketing plan - Monitor progress and adjust tactics as necessary'), ('Step16', 'Step15', 'Measure and analyze results - Collect data from both online and offline marketing efforts - Use analytics tools to measure success against objectives'), ('Step17', 'Step16', \"Refine and adjust strategies - Review what worked and what didn't - Make necessary adjustments to improve future marketing efforts\")]\n"
     ]
    }
   ],
   "source": [
    "import re\n",
    "\n",
    "# Provided text input\n",
    "text = \"\"\"\n",
    "Step1 (initial): Define the product and target audience\n",
    "- Identify the unique selling points (USPs) of the product\n",
    "- Determine the demographics and psychographics of the target audience\n",
    "\n",
    "Step2 (following Step1): Set clear marketing objectives\n",
    "- Decide what you want to achieve (e.g., brand awareness, sales increase, customer engagement)\n",
    "\n",
    "Step3 (following Step2): Establish a budget\n",
    "- Determine the overall budget for marketing activities\n",
    "- Allocate funds for both online and offline strategies\n",
    "\n",
    "Step4 (following Step3): Develop a marketing plan\n",
    "- Outline the strategies and tactics to be used\n",
    "- Create a timeline for implementation\n",
    "\n",
    "Step5 (following Step4): Online marketing strategy development\n",
    "- Research the most effective online platforms for your target audience\n",
    "\n",
    "Step6 (option Step5): Create a website or optimize an existing one\n",
    "- Ensure the website is user-friendly and optimized for search engines (SEO)\n",
    "- Include clear product information and a call to action (CTA)\n",
    "\n",
    "Step7 (option Step5): Utilize social media\n",
    "- Choose the right social media platforms based on your audience\n",
    "- Plan content and posting schedule\n",
    "\n",
    "Step8 (option Step5): Implement email marketing\n",
    "- Build an email list\n",
    "- Design email campaigns\n",
    "\n",
    "Step9 (option Step5): Explore online advertising\n",
    "- Look into pay-per-click (PPC) campaigns, display ads, and social media ads\n",
    "- Set up tracking for performance analysis\n",
    "\n",
    "Step10 (following Step4): Offline marketing strategy development\n",
    "- Identify offline channels that reach your target audience\n",
    "\n",
    "Step11 (option Step10): Networking and events\n",
    "- Attend industry events, trade shows, and networking events\n",
    "- Plan and prepare materials for event promotion\n",
    "\n",
    "Step12 (option Step10): Traditional advertising\n",
    "- Consider print, radio, or television ads\n",
    "- Design ad creatives and select appropriate media outlets\n",
    "\n",
    "Step13 (option Step10): Direct mail\n",
    "- Design and send out brochures, flyers, or postcards\n",
    "- Target specific geographic areas or demographics\n",
    "\n",
    "Step14 (option Step10): In-store promotions\n",
    "- Plan in-store events or special promotions\n",
    "- Create point-of-sale displays or materials\n",
    "\n",
    "Step15 (following Step4): Execute the marketing plan\n",
    "- Implement the strategies outlined in the marketing plan\n",
    "- Monitor progress and adjust tactics as necessary\n",
    "\n",
    "Step16 (following Step15): Measure and analyze results\n",
    "- Collect data from both online and offline marketing efforts\n",
    "- Use analytics tools to measure success against objectives\n",
    "\n",
    "Step17 (following Step16): Refine and adjust strategies\n",
    "- Review what worked and what didn't\n",
    "- Make necessary adjustments to improve future marketing efforts\n",
    "\"\"\"\n",
    "\n",
    "# Regular expression to match the steps and their descriptions\n",
    "regex = r\"Step(\\d+) \\((initial|following Step(\\d+)|option Step(\\d+))\\): ([^\\n]+)((?:\\n- [^\\n]+)+)\"\n",
    "\n",
    "# Find all matches in the text\n",
    "matches = re.findall(regex, text)\n",
    "\n",
    "# Process matches to format them as required\n",
    "formatted_steps = []\n",
    "for match in matches:\n",
    "    step_number = \"Step\" + match[0]\n",
    "    step_reference = match[1]\n",
    "    if step_reference.startswith('following'):\n",
    "        step_reference = 'Step' + match[2]\n",
    "    if  step_reference.startswith('option'):\n",
    "        step_reference = 'Step' + match[3]\n",
    "    step_content = match[4] + ' ' + ' '.join(match[5].strip().split('\\n'))\n",
    "    formatted_steps.append((step_number, step_reference, step_content))\n",
    "\n",
    "# Output the list of tuples\n",
    "print(formatted_steps)"
   ]
  },
  {
   "cell_type": "code",
   "execution_count": 13,
   "metadata": {},
   "outputs": [
    {
     "name": "stdout",
     "output_type": "stream",
     "text": [
      "the goal is:Step 1: Establish a Foundation**1.1:** Identify key terminology and concepts related to multi-LLM agent frameworks.\n",
      "- **1.2:** Gather a list of foundational papers and texts on LLMs and multi-agent systems.\n",
      "- **1.3:** Set up a document or a note-taking system to organize insights and references., the energy is [40. 65.]\n",
      "the goal is:Step 2: Conduct a Literature Review**2.1:** Read through the foundational texts to understand the basics of LLMs and multi-agent frameworks.\n",
      "- **2.2:** Search for recent papers on multi-LLM agent frameworks using academic databases like Google Scholar, arXiv, etc.\n",
      "- **2.3:** Create a literature review document summarizing each paper's objectives, methods, and findings., the energy is [40. 65.]\n",
      "the goal is:Step 3: Analyze Current State-of-the-Art Frameworks**3.1:** Select a handful of state-of-the-art frameworks to focus on.\n",
      "- **3.2:** Read the selected papers in-depth and analyze their code if available.\n",
      "- **3.3:** Identify the strengths and limitations of each framework., the energy is [40. 70.]\n",
      "the goal is:Step 4: Develop Technical Skills**4.1:** If necessary, take online courses or tutorials to learn any programming languages or tools commonly used in LLM agent frameworks.\n",
      "- **4.2:** Practice by replicating parts of existing frameworks or by contributing to open-source projects., the energy is [200.  70.]\n",
      "the goal is:Step 5: Identify Areas for Improvement or Innovation**5.1:** Based on your literature review and technical understanding, brainstorm potential areas for improvement or innovation.\n",
      "- **5.2:** Validate these ideas through discussions with peers or mentors in the field.\n",
      "- **5.3:** Select one or more ideas to pursue for your unique framework., the energy is [40. 70.]\n",
      "the goal is:Step 6: Design Your Framework**6.1:** Outline the architecture of your framework, including the components and how they interact.\n",
      "- **6.2:** Write a design document detailing your framework's unique features and how it differs from existing ones.\n",
      "- **6.3:** Seek feedback on your design from experienced researchers or through peer reviews., the energy is [40. 70.]\n",
      "the goal is:Step 7: Implement a Prototype**7.1:** Set up a development environment with the necessary tools and libraries.\n",
      "- **7.2:** Break down the implementation into smaller modules or components.\n",
      "- **7.3:** Begin coding, starting with the core functionality and gradually adding features., the energy is [40. 70.]\n",
      "the goal is:Step 8: Test and Iterate**8.1:** Develop test cases to ensure each component functions correctly.\n",
      "- **8.2:** Run tests and fix any issues that arise.\n",
      "- **8.3:** Iterate on the design based on test results and feedback., the energy is [40. 70.]\n",
      "the goal is:Step 9: Document Your Work**9.1:** Create comprehensive documentation for your framework, including setup instructions, usage examples, and API references.\n",
      "- **9.2:** Write a research paper or report detailing your framework's design, implementation, and potential applications., the energy is [40. 70.]\n",
      "the goal is:Step 10: Share and Seek Feedback**10.1:** Share your framework and documentation with the research community.\n",
      "- **10.2:** Present your work at conferences, workshops, or seminars to gain visibility and feedback.\n",
      "- **10.3:** Incorporate feedback and continue to refine your framework.\n",
      "\n",
      "Remember to set realistic deadlines for each step and to regularly review and adjust your plan as needed. Good luck with your research!, the energy is [200.  80.]\n"
     ]
    }
   ],
   "source": [
    "for ele in decomposed_list:\n",
    "    print(f\"the goal is:{ele.goal}, the energy is {ele.energy}\")"
   ]
  },
  {
   "cell_type": "markdown",
   "metadata": {},
   "source": [
    "### Consciousness Module"
   ]
  },
  {
   "cell_type": "code",
   "execution_count": 2,
   "metadata": {},
   "outputs": [
    {
     "data": {
      "text/plain": [
       "['task2', 'task1', 'task3']"
      ]
     },
     "execution_count": 2,
     "metadata": {},
     "output_type": "execute_result"
    }
   ],
   "source": [
    "from xyz.magics.consciousness.ConsciousnessModule import ConsciousnessModule\n",
    "\n",
    "\n",
    "# Example dictionary with id as key and 2D numpy array as value\n",
    "# the arrays are for dimension time needed, complexity, time to deadline\n",
    "example_task = {\n",
    "    \"task1\": np.array([40, 65, 60]),\n",
    "    \"task2\": np.array([30, 75, 35]),\n",
    "    \"task3\": np.array([8, 80, 10000]),\n",
    "}\n",
    "\n",
    "test_consciousness = ConsciousnessModule(momemtums=example_task)\n",
    "test_consciousness.sort_momentum()"
   ]
  }
 ],
 "metadata": {
  "kernelspec": {
   "display_name": "gaming_demo",
   "language": "python",
   "name": "python3"
  },
  "language_info": {
   "codemirror_mode": {
    "name": "ipython",
    "version": 3
   },
   "file_extension": ".py",
   "mimetype": "text/x-python",
   "name": "python",
   "nbconvert_exporter": "python",
   "pygments_lexer": "ipython3",
   "version": "3.10.13"
  }
 },
 "nbformat": 4,
 "nbformat_minor": 2
}
