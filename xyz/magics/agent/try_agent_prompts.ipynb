{
 "cells": [
  {
   "cell_type": "code",
   "execution_count": 1,
   "metadata": {},
   "outputs": [],
   "source": [
    "import sys\n",
    "import os\n",
    "sys.path.append(\"../../..\")\n",
    "\n",
    "\n",
    "import numpy as np\n",
    "from user_settings import *\n",
    "from CoreAgent import CoreAgent\n",
    "from ThinkingFlow import ThinkingFlow\n",
    "from prompts import task_evaluating_prompt, task_dividing_prompt\n",
    "\n",
    "\n",
    "# define energy identify and divide agent\n",
    "task_evaluating_agent = CoreAgent(template=task_evaluating_prompt)\n",
    "task_dividing_agent = CoreAgent(template=task_dividing_prompt)"
   ]
  },
  {
   "cell_type": "markdown",
   "metadata": {},
   "source": [
    "### task_evaluating_agent"
   ]
  },
  {
   "cell_type": "code",
   "execution_count": 2,
   "metadata": {},
   "outputs": [],
   "source": [
    "test_task1 = \"\"\"You will become a researcher on multi-llm agent framework. You need to read paper/code of current state of art framework of multi-llm agents. Ultimately, I want you to be able to \n",
    "design and implement your own structure with useful difference compare to the existing structures\"\"\"\n",
    "sub_test_task1 = \"\"\"Establish a Foundation in Multi-Agent Systems\\n- Begin by reading introductory materials on multi-agent systems to understand the basic concepts, terminology, and theoretical underpinnings.\n",
    "\\n- Identify and complete any prerequisite learning, such as courses or tutorials on artificial intelligence, machine learning, and software engineering principles relevant to multi-agent systems.\"\"\"\n",
    "sub_test_task2 = \"\"\"Conduct a Literature Review\\n- Search for and compile a list of recent papers and articles on multi-agent systems, specifically focusing on frameworks that utilize language learning models (LLMs).\n",
    "\\n- Organize the literature by themes, such as architecture, communication protocols, learning strategies, and application domains.\"\"\""
   ]
  },
  {
   "cell_type": "code",
   "execution_count": 3,
   "metadata": {},
   "outputs": [
    {
     "data": {
      "text/plain": [
       "'Time needed:\\n100000 hours\\n\\nComplexity score:\\n100'"
      ]
     },
     "execution_count": 3,
     "metadata": {},
     "output_type": "execute_result"
    }
   ],
   "source": [
    "task_evaluating_agent.run(current_task=test_task1)"
   ]
  },
  {
   "cell_type": "code",
   "execution_count": 7,
   "metadata": {},
   "outputs": [
    {
     "data": {
      "text/plain": [
       "'Time needed:\\n200 hours\\n\\nComplexity score:\\n80'"
      ]
     },
     "execution_count": 7,
     "metadata": {},
     "output_type": "execute_result"
    }
   ],
   "source": [
    "task_evaluating_agent.run(current_task=sub_test_task1)"
   ]
  },
  {
   "cell_type": "code",
   "execution_count": 8,
   "metadata": {},
   "outputs": [
    {
     "data": {
      "text/plain": [
       "'Time needed:\\n40 hours\\n\\nComplexity score:\\n65'"
      ]
     },
     "execution_count": 8,
     "metadata": {},
     "output_type": "execute_result"
    }
   ],
   "source": [
    "task_evaluating_agent.run(current_task=sub_test_task2)"
   ]
  },
  {
   "cell_type": "markdown",
   "metadata": {},
   "source": [
    "### task_dividing_agent"
   ]
  },
  {
   "cell_type": "code",
   "execution_count": 4,
   "metadata": {},
   "outputs": [
    {
     "data": {
      "text/plain": [
       "\"Certainly! To become a researcher on multi-ILM (Intelligent Learning Models) agent frameworks and to ultimately design and implement a unique structure, we can break down the task into the following steps:\\n\\n## Step 1: Establish a Foundation\\n- **1.1:** Familiarize yourself with the basics of machine learning, artificial intelligence, and multi-agent systems if you haven't already.\\n- **1.2:** Identify and gather foundational papers and textbooks on multi-agent systems and machine learning.\\n- **1.3:** Review these materials to ensure a solid understanding of the fundamental concepts.\\n\\n## Step 2: Conduct a Literature Review\\n- **2.1:** Search for recent academic papers, articles, and conference proceedings on multi-ILM agent frameworks.\\n- **2.2:** Use databases like Google Scholar, arXiv, IEEE Xplore, and others to find relevant literature.\\n- **2.3:** Create a document to summarize each paper's key points, contributions, and methodologies.\\n\\n## Step 3: Deep Dive into Current State-of-the-Art Frameworks\\n- **3.1:** Select a handful of state-of-the-art frameworks that are most relevant to your interests.\\n- **3.2:** Read the selected papers in-depth, focusing on their architecture, algorithms, and results.\\n- **3.3:** Identify the strengths and weaknesses of each framework.\\n\\n## Step 4: Acquire Practical Experience\\n- **4.1:** Find open-source code repositories related to the state-of-the-art frameworks.\\n- **4.2:** Set up a development environment to run and experiment with the existing code.\\n- **4.3:** Replicate the results from the papers to ensure a thorough understanding of the frameworks.\\n\\n## Step 5: Identify Gaps and Opportunities\\n- **5.1:** Based on your literature review and practical experience, identify gaps or areas for improvement in the current frameworks.\\n- **5.2:** Brainstorm potential innovations or different approaches that could address these gaps.\\n- **5.3:** Validate your ideas through discussions with peers or mentors in the field.\\n\\n## Step 6: Develop a Proposal for Your Structure\\n- **6.1:** Outline the key features and benefits of your proposed structure.\\n- **6.2:** Draft a preliminary design of your framework, including algorithms, data flow, and agent interactions.\\n- **6.3:** Review and refine your proposal based on feedback and further research.\\n\\n## Step 7: Implement a Prototype\\n- **7.1:** Choose the programming languages and tools that are best suited for your framework.\\n- **7.2:** Begin coding a prototype, starting with the most critical components.\\n- **7.3:** Test each component individually before integrating them into the larger system.\\n\\n## Step 8: Test and Iterate\\n- **8.1:** Develop test cases and scenarios to evaluate the performance of your framework.\\n- **8.2:** Run tests and collect data on the framework's effectiveness and efficiency.\\n- **8.3:** Refine and iterate on your design based on test results and possibly user feedback.\\n\\n## Step 9: Document and Share Your Work\\n- **9.1:** Write detailed documentation for your framework, including setup instructions, usage examples, and design rationale.\\n- **9.2:** Prepare a research paper or report that outlines your methodology, findings, and the significance of your work.\\n- **9.3:** Share your work with the community through preprint servers, conferences, or journals.\\n\\n## Step 10: Seek Feedback and Collaborate\\n- **10.1:** Present your work at seminars, workshops, or conferences to gain visibility and feedback.\\n- **10.2:** Engage with other researchers for potential collaboration and further development of your framework.\\n- **10.3:** Continuously update your knowledge and improve your framework based on the evolving landscape of multi-ILM agent research.\\n\\nRemember to take each step at a comfortable pace and to not rush the process. Quality research takes time, and thorough understanding is key to innovation.\""
      ]
     },
     "execution_count": 4,
     "metadata": {},
     "output_type": "execute_result"
    }
   ],
   "source": [
    "task_dividing_agent.run(current_task=test_task1)"
   ]
  },
  {
   "cell_type": "markdown",
   "metadata": {},
   "source": [
    "### momentum thinking flow\n"
   ]
  },
  {
   "cell_type": "code",
   "execution_count": 6,
   "metadata": {},
   "outputs": [],
   "source": [
    "from xyz.magics.agent.MomentumThinkingFlow import MomentumThinkingflow"
   ]
  },
  {
   "cell_type": "code",
   "execution_count": 7,
   "metadata": {},
   "outputs": [],
   "source": [
    "test_momentum_tf = MomentumThinkingflow()"
   ]
  },
  {
   "cell_type": "code",
   "execution_count": 5,
   "metadata": {},
   "outputs": [
    {
     "name": "stdout",
     "output_type": "stream",
     "text": [
      "retrying, this is 1 time\n"
     ]
    },
    {
     "data": {
      "text/plain": [
       "array([1000.,   90.])"
      ]
     },
     "execution_count": 5,
     "metadata": {},
     "output_type": "execute_result"
    }
   ],
   "source": [
    "test_momentum_tf.get_energy(task=test_task1)"
   ]
  },
  {
   "cell_type": "code",
   "execution_count": 6,
   "metadata": {},
   "outputs": [
    {
     "data": {
      "text/plain": [
       "array([200.,  80.])"
      ]
     },
     "execution_count": 6,
     "metadata": {},
     "output_type": "execute_result"
    }
   ],
   "source": [
    "test_momentum_tf.get_energy(task=sub_test_task1)"
   ]
  },
  {
   "cell_type": "code",
   "execution_count": 8,
   "metadata": {},
   "outputs": [
    {
     "data": {
      "text/plain": [
       "[{'Step': 'Step 1: Establish a Foundation',\n",
       "  'Description': '**1.1:** Familiarize yourself with the basics of LLMs and multi-agent systems.\\n- **1.2:** Identify and gather foundational papers and resources on LLMs.\\n- **1.3:** Read through introductory materials to understand the core concepts and terminology.'},\n",
       " {'Step': 'Step 2: Conduct a Literature Review',\n",
       "  'Description': \"**2.1:** Search for recent papers on multi-LLM agent frameworks using academic databases like Google Scholar, arXiv, and IEEE Xplore.\\n- **2.2:** Create a document to summarize each paper's key points, contributions, and methodologies.\\n- **2.3:** Identify the current state-of-the-art frameworks and their limitations.\"},\n",
       " {'Step': 'Step 3: Deepen Your Understanding',\n",
       "  'Description': '**3.1:** Select a few state-of-the-art frameworks to study in-depth.\\n- **3.2:** Read the selected papers thoroughly and take detailed notes.\\n- **3.3:** Reach out to authors or experts if you have questions or need clarifications.'},\n",
       " {'Step': 'Step 4: Gain Practical Experience',\n",
       "  'Description': '**4.1:** Find and download the code repositories of the selected frameworks (if available).\\n- **4.2:** Set up a coding environment to run and experiment with the existing frameworks.\\n- **4.3:** Replicate the results from the papers to ensure you understand the implementations.'},\n",
       " {'Step': 'Step 5: Identify Potential Improvements',\n",
       "  'Description': '**5.1:** Analyze the strengths and weaknesses of the current frameworks.\\n- **5.2:** Brainstorm possible improvements or new features that could address the identified weaknesses.\\n- **5.3:** Validate your ideas through discussions with peers or mentors.'},\n",
       " {'Step': 'Step 6: Design Your Framework',\n",
       "  'Description': '**6.1:** Outline the architecture of your own multi-LLM agent framework.\\n- **6.2:** Define the unique features and differences that your framework will have.\\n- **6.3:** Create a detailed design document specifying the components and interactions within your framework.'},\n",
       " {'Step': 'Step 7: Develop a Prototype',\n",
       "  'Description': '**7.1:** Break down the implementation into smaller coding tasks.\\n- **7.2:** Start coding the core components of your framework.\\n- **7.3:** Regularly test each component to ensure functionality.'},\n",
       " {'Step': 'Step 8: Test and Iterate',\n",
       "  'Description': '**8.1:** Integrate the components into a working prototype.\\n- **8.2:** Conduct thorough testing to identify bugs and performance issues.\\n- **8.3:** Refine and optimize your framework based on feedback and test results.'},\n",
       " {'Step': 'Step 9: Document and Share Your Work',\n",
       "  'Description': \"**9.1:** Write comprehensive documentation for your framework.\\n- **9.2:** Prepare a research paper detailing your framework's design, implementation, and advantages over existing solutions.\\n- **9.3:** Submit your work to academic journals or conferences and share it with the research community.\"},\n",
       " {'Step': 'Step 10: Seek Feedback and Collaborate',\n",
       "  'Description': '**10.1:** Present your work at seminars, workshops, or conferences to get feedback.\\n- **10.2:** Collaborate with other researchers to further develop or integrate your framework.\\n- **10.3:** Continuously update your knowledge and improve your framework based on the evolving landscape of multi-LLM agent research.\\n\\nRemember to pace yourself and tackle each step methodically. Good luck with your research journey!'}]"
      ]
     },
     "execution_count": 8,
     "metadata": {},
     "output_type": "execute_result"
    }
   ],
   "source": [
    "test_momentum_tf.divided_tasks_extraction(task_dividing_agent.run(current_task=test_task1))"
   ]
  }
 ],
 "metadata": {
  "kernelspec": {
   "display_name": "gaming_demo",
   "language": "python",
   "name": "python3"
  },
  "language_info": {
   "codemirror_mode": {
    "name": "ipython",
    "version": 3
   },
   "file_extension": ".py",
   "mimetype": "text/x-python",
   "name": "python",
   "nbconvert_exporter": "python",
   "pygments_lexer": "ipython3",
   "version": "3.10.13"
  }
 },
 "nbformat": 4,
 "nbformat_minor": 2
}
