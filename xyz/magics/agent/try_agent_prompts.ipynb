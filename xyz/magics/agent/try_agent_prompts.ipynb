{
 "cells": [
  {
   "cell_type": "code",
   "execution_count": 1,
   "metadata": {},
   "outputs": [],
   "source": [
    "import sys\n",
    "import os\n",
    "sys.path.append(\"../../..\")\n",
    "\n",
    "\n",
    "import numpy as np\n",
    "from user_settings import *\n",
    "from CoreAgent import CoreAgent\n",
    "from ThinkingFlow import ThinkingFlow\n",
    "from prompts import task_evaluating_prompt, task_dividing_prompt\n",
    "\n",
    "\n",
    "# define energy identify and divide agent\n",
    "task_evaluating_agent = CoreAgent(template=task_evaluating_prompt)\n",
    "task_dividing_agent = CoreAgent(template=task_dividing_prompt)"
   ]
  },
  {
   "cell_type": "markdown",
   "metadata": {},
   "source": [
    "### task_evaluating_agent"
   ]
  },
  {
   "cell_type": "code",
   "execution_count": 2,
   "metadata": {},
   "outputs": [],
   "source": [
    "test_task1 = \"\"\"You will become a researcher on multi-llm agent framework. You need to read paper/code of current state of art framework of multi-llm agents. Ultimately, I want you to be able to \n",
    "design and implement your own structure with useful difference compare to the existing structures\"\"\"\n",
    "sub_test_task1 = \"\"\"Establish a Foundation in Multi-Agent Systems\\n- Begin by reading introductory materials on multi-agent systems to understand the basic concepts, terminology, and theoretical underpinnings.\n",
    "\\n- Identify and complete any prerequisite learning, such as courses or tutorials on artificial intelligence, machine learning, and software engineering principles relevant to multi-agent systems.\"\"\"\n",
    "sub_test_task2 = \"\"\"Conduct a Literature Review\\n- Search for and compile a list of recent papers and articles on multi-agent systems, specifically focusing on frameworks that utilize language learning models (LLMs).\n",
    "\\n- Organize the literature by themes, such as architecture, communication protocols, learning strategies, and application domains.\"\"\""
   ]
  },
  {
   "cell_type": "code",
   "execution_count": 3,
   "metadata": {},
   "outputs": [
    {
     "data": {
      "text/plain": [
       "'Time needed:\\n100000 hours\\n\\nComplexity score:\\n100'"
      ]
     },
     "execution_count": 3,
     "metadata": {},
     "output_type": "execute_result"
    }
   ],
   "source": [
    "task_evaluating_agent.run(current_task=test_task1)"
   ]
  },
  {
   "cell_type": "code",
   "execution_count": 7,
   "metadata": {},
   "outputs": [
    {
     "data": {
      "text/plain": [
       "'Time needed:\\n200 hours\\n\\nComplexity score:\\n80'"
      ]
     },
     "execution_count": 7,
     "metadata": {},
     "output_type": "execute_result"
    }
   ],
   "source": [
    "task_evaluating_agent.run(current_task=sub_test_task1)"
   ]
  },
  {
   "cell_type": "code",
   "execution_count": 8,
   "metadata": {},
   "outputs": [
    {
     "data": {
      "text/plain": [
       "'Time needed:\\n40 hours\\n\\nComplexity score:\\n65'"
      ]
     },
     "execution_count": 8,
     "metadata": {},
     "output_type": "execute_result"
    }
   ],
   "source": [
    "task_evaluating_agent.run(current_task=sub_test_task2)"
   ]
  },
  {
   "cell_type": "markdown",
   "metadata": {},
   "source": [
    "### task_dividing_agent"
   ]
  },
  {
   "cell_type": "code",
   "execution_count": 4,
   "metadata": {},
   "outputs": [
    {
     "data": {
      "text/plain": [
       "\"## Step 1: Establish a Foundation in Multi-Agent Systems\\n- Begin by reading introductory materials on multi-agent systems to understand the basic concepts, terminology, and theoretical underpinnings.\\n- Identify and complete any prerequisite learning, such as courses or tutorials on artificial intelligence, machine learning, and software engineering principles relevant to multi-agent systems.\\n\\n## Step 2: Conduct a Literature Review\\n- Search for and compile a list of recent papers and articles on multi-agent systems, specifically focusing on frameworks that utilize language learning models (LLMs).\\n- Organize the literature by themes, such as architecture, communication protocols, learning strategies, and application domains.\\n\\n## Step 3: Analyze Current State-of-the-Art Frameworks\\n- Read through the selected papers and code repositories in detail, taking notes on key features, strengths, and limitations of each framework.\\n- Create a summary document that synthesizes the information gathered, highlighting the most innovative aspects and common challenges faced in the field.\\n\\n## Step 4: Identify Gaps and Opportunities\\n- Based on the literature review and analysis, identify any gaps or areas where there is potential for improvement or innovation in multi-agent LLM frameworks.\\n- Brainstorm ideas for features or approaches that could address these gaps or add value to the existing frameworks.\\n\\n## Step 5: Learn Necessary Tools and Technologies\\n- Determine the tools, programming languages, and technologies commonly used in the development of multi-agent LLM frameworks.\\n- Engage in self-study or take courses to become proficient in these tools and technologies, with a focus on those that are most relevant to your proposed innovations.\\n\\n## Step 6: Design a Conceptual Framework\\n- Outline a conceptual design for your own multi-agent LLM framework, incorporating the useful differences you've identified.\\n- Create diagrams and documentation to clearly articulate the architecture, components, and workflow of your proposed framework.\\n\\n## Step 7: Seek Feedback\\n- Share your conceptual design with peers, mentors, or experts in the field to gather feedback and suggestions for improvement.\\n- Refine your design based on the feedback received, ensuring that it is both innovative and feasible.\\n\\n## Step 8: Develop a Prototype\\n- Translate your conceptual design into a working prototype by writing code and integrating necessary libraries or APIs.\\n- Start with a minimal viable product (MVP) that demonstrates the core functionality and unique aspects of your framework.\\n\\n## Step 9: Test and Iterate\\n- Conduct thorough testing of your prototype to identify bugs, performance issues, and areas for enhancement.\\n- Iterate on the design and code, making improvements and refinements based on testing results and additional feedback.\\n\\n## Step 10: Document and Share Your Work\\n- Create comprehensive documentation for your framework, including setup instructions, usage examples, and explanations of the key features and design choices.\\n- Publish your code in a public repository and consider writing a paper or presenting your work at conferences to share your contributions with the broader research community.\\n\\n## Step 11: Plan for Ongoing Development\\n- Develop a roadmap for the future development of your framework, considering how it can be extended or adapted to new challenges and applications.\\n- Engage with the community of users and contributors to foster an ecosystem around your framework and encourage collaborative improvement and innovation.\""
      ]
     },
     "execution_count": 4,
     "metadata": {},
     "output_type": "execute_result"
    }
   ],
   "source": [
    "task_dividing_agent.run(current_task=test_task1)"
   ]
  },
  {
   "cell_type": "markdown",
   "metadata": {},
   "source": [
    "### momentum thinking flow\n"
   ]
  },
  {
   "cell_type": "code",
   "execution_count": 3,
   "metadata": {},
   "outputs": [],
   "source": [
    "from xyz.magics.agent.MomentumThinkingFlow import MomentumThinkingflow"
   ]
  },
  {
   "cell_type": "code",
   "execution_count": 4,
   "metadata": {},
   "outputs": [],
   "source": [
    "test_momentum_tf = MomentumThinkingflow()"
   ]
  },
  {
   "cell_type": "code",
   "execution_count": 5,
   "metadata": {},
   "outputs": [
    {
     "name": "stdout",
     "output_type": "stream",
     "text": [
      "retrying, this is 1 time\n"
     ]
    },
    {
     "data": {
      "text/plain": [
       "array([1000.,   90.])"
      ]
     },
     "execution_count": 5,
     "metadata": {},
     "output_type": "execute_result"
    }
   ],
   "source": [
    "test_momentum_tf.get_energy(task=test_task1)"
   ]
  },
  {
   "cell_type": "code",
   "execution_count": 6,
   "metadata": {},
   "outputs": [
    {
     "data": {
      "text/plain": [
       "array([200.,  80.])"
      ]
     },
     "execution_count": 6,
     "metadata": {},
     "output_type": "execute_result"
    }
   ],
   "source": [
    "test_momentum_tf.get_energy(task=sub_test_task1)"
   ]
  }
 ],
 "metadata": {
  "kernelspec": {
   "display_name": "gaming_demo",
   "language": "python",
   "name": "python3"
  },
  "language_info": {
   "codemirror_mode": {
    "name": "ipython",
    "version": 3
   },
   "file_extension": ".py",
   "mimetype": "text/x-python",
   "name": "python",
   "nbconvert_exporter": "python",
   "pygments_lexer": "ipython3",
   "version": "3.10.13"
  }
 },
 "nbformat": 4,
 "nbformat_minor": 2
}
