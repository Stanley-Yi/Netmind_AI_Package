{
 "cells": [
  {
   "cell_type": "code",
   "execution_count": 1,
   "metadata": {},
   "outputs": [],
   "source": [
    "import sys\n",
    "import os\n",
    "sys.path.append(\"../..\")\n",
    "\n",
    "from user_settings import *\n",
    "from xyz.magics.agent.ThinkingFlow import ThinkingFlow\n",
    "from xyz.magics.momentum.MomentumModule import MomentumModule\n",
    "from xyz.magics.agent.MomentumThinkingFlow import MomentumThinkingflow\n"
   ]
  },
  {
   "cell_type": "markdown",
   "metadata": {},
   "source": [
    "### divide to tree struct"
   ]
  },
  {
   "cell_type": "code",
   "execution_count": 2,
   "metadata": {},
   "outputs": [],
   "source": [
    "test_task1 = \"\"\"You will become a researcher on multi-llm agent framework. You need to read paper/code of current state of art framework of multi-llm agents. Ultimately, I want you to be able to \n",
    "design and implement your own structure with useful difference compare to the existing structures\"\"\"\n",
    "test_task2= \"I want to keep promote my product to customer, I want to know how to do it online and offline\"\n",
    "sub_test_task1 = \"\"\"Establish a Foundation in Multi-Agent Systems\\n- Begin by reading introductory materials on multi-agent systems to understand the basic concepts, terminology, and theoretical underpinnings.\n",
    "\\n- Identify and complete any prerequisite learning, such as courses or tutorials on artificial intelligence, machine learning, and software engineering principles relevant to multi-agent systems.\"\"\"\n",
    "sub_test_task2 = \"\"\"Conduct a Literature Review\\n- Search for and compile a list of recent papers and articles on multi-agent systems, specifically focusing on frameworks that utilize language learning models (LLMs).\n",
    "\\n- Organize the literature by themes, such as architecture, communication protocols, learning strategies, and application domains.\"\"\""
   ]
  },
  {
   "cell_type": "code",
   "execution_count": 3,
   "metadata": {},
   "outputs": [],
   "source": [
    "test_momentum_tf = MomentumThinkingflow()\n",
    "testMomentum = MomentumModule(goal=test_task1, energy=90, decay_func=None, longterm_memory=None, shortterm_memory=None, thinkingflow=test_momentum_tf)"
   ]
  },
  {
   "cell_type": "code",
   "execution_count": 4,
   "metadata": {},
   "outputs": [
    {
     "data": {
      "text/plain": [
       "[('Step1',\n",
       "  'initial',\n",
       "  'Define the scope and objectives - Identify the specific domain or problem area within multi-agent systems you want to focus on. - Determine the purpose of your research (e.g., academic, industry application, innovation). - Set clear, achievable goals for what you want to accomplish with your research.'),\n",
       " ('Step2',\n",
       "  'Step1',\n",
       "  'Conduct a literature review - Search for recent papers on multi-agent systems and language learning models (LLMs). - Create a list of relevant databases and journals to search through. - Use keywords and phrases related to multi-agent systems and LLMs to find pertinent research.'),\n",
       " ('Step3',\n",
       "  'Step2',\n",
       "  'Organize the literature - Categorize the papers and code repositories you find by their approach, findings, and relevance. - Summarize the key points from each source. - Identify gaps in the current research that your work could address.'),\n",
       " ('Step4',\n",
       "  'Step3',\n",
       "  'Acquire foundational knowledge - Read foundational papers and materials to understand the basics of multi-agent systems and LLMs. - Take notes on important concepts, methodologies, and terminologies.'),\n",
       " ('Step5',\n",
       "  'Step4',\n",
       "  'Deep dive into state-of-the-art frameworks - Select the most recent and influential papers or codebases from your literature review. - Study the selected materials in-depth to understand the current state of the art. - Analyze the strengths and weaknesses of existing frameworks.'),\n",
       " ('Step6',\n",
       "  'Step5',\n",
       "  'Gain practical experience - Set up a coding environment suitable for working with multi-agent systems and LLMs. - Replicate the results of one or more state-of-the-art frameworks by running their code. - Experiment with modifying aspects of the code to see how changes affect outcomes.'),\n",
       " ('Step7',\n",
       "  'Step6',\n",
       "  'Identify potential improvements - Based on your understanding of existing frameworks and your practical experiments, brainstorm potential improvements or novel approaches. - Consider how your unique skills and insights could contribute to advancing the field.'),\n",
       " ('Step8',\n",
       "  'Step7',\n",
       "  'Outline your own framework - Draft a high-level design for your own multi-agent LLM framework. - Define the architecture, components, and how they will interact. - Highlight the differences and improvements over existing frameworks.'),\n",
       " ('Step9',\n",
       "  'Step8',\n",
       "  'Develop a research proposal - Write a detailed research proposal outlining your planned framework, including objectives, methodology, and expected outcomes. - Seek feedback from peers or mentors to refine your proposal.'),\n",
       " ('Step10',\n",
       "  'Step9',\n",
       "  'Implement a prototype - Begin coding a prototype of your framework based on the design outlined in your proposal. - Start with a minimal viable product that demonstrates the core functionality. - Iteratively develop and test each component of the framework.'),\n",
       " ('Step11',\n",
       "  'Step10',\n",
       "  'Test and evaluate - Design experiments to test the effectiveness and efficiency of your framework. - Collect and analyze data to evaluate how your framework performs compared to existing ones. - Make adjustments based on the results of your tests.'),\n",
       " ('Step12',\n",
       "  'Step11',\n",
       "  'Document your work - Keep detailed records of your design decisions, code changes, and test results. - Write a comprehensive report or paper describing your framework and findings. - Prepare to share your work with the research community or stakeholders.'),\n",
       " ('Step13',\n",
       "  'Step12',\n",
       "  'Seek peer review - Submit your work to journals, conferences, or online repositories for peer review. - Incorporate feedback from reviewers to improve your framework and research paper.'),\n",
       " ('Step14',\n",
       "  'Step13',\n",
       "  'Publish and disseminate - Finalize your research paper or report with any necessary revisions. - Publish your work in academic journals, present at conferences, or share through other relevant channels. - Engage with the research community to discuss your findings and gather further insights.'),\n",
       " ('Step15',\n",
       "  'Step14',\n",
       "  'Reflect and plan future work - Reflect on the research process and the outcomes of your work. - Identify areas for future research or further development of your framework. - Plan your next steps in advancing the field of multi-agent LLM frameworks.')]"
      ]
     },
     "execution_count": 4,
     "metadata": {},
     "output_type": "execute_result"
    }
   ],
   "source": [
    "testMomentum.decompose()"
   ]
  },
  {
   "cell_type": "markdown",
   "metadata": {},
   "source": [
    "### Memory to graph and energy transfer"
   ]
  },
  {
   "cell_type": "code",
   "execution_count": 5,
   "metadata": {},
   "outputs": [],
   "source": [
    "from xyz.magics.consciousness.ConsciousnessModule import ConsciousnessModule\n",
    "from xyz.magics.momentum.momentumMemory.MomentumMemory import MomentumMemory\n",
    "from pymilvus import utility, Collection\n",
    "\n",
    "# construct memory instance\n",
    "memory_instance = MomentumMemory(\n",
    "            sql_db = 'momentum_sql_db',\n",
    "            milvus_host = '18.171.129.243',\n",
    "            milvus_port = 80,\n",
    "            milvus_user = 'root',\n",
    "            milvus_psw = 'NetMindMilvusDB',\n",
    "            sql_host = '18.171.129.243',\n",
    "            sql_port = 3306,\n",
    "            sql_user = 'netmind',\n",
    "            sql_psw = 'NetMindMySQL',\n",
    "        )"
   ]
  },
  {
   "cell_type": "code",
   "execution_count": 6,
   "metadata": {},
   "outputs": [
    {
     "ename": "KeyboardInterrupt",
     "evalue": "",
     "output_type": "error",
     "traceback": [
      "\u001b[0;31m---------------------------------------------------------------------------\u001b[0m",
      "\u001b[0;31mKeyboardInterrupt\u001b[0m                         Traceback (most recent call last)",
      "Cell \u001b[0;32mIn[6], line 2\u001b[0m\n\u001b[1;32m      1\u001b[0m \u001b[38;5;66;03m# construct memory instance\u001b[39;00m\n\u001b[0;32m----> 2\u001b[0m memory_instance \u001b[38;5;241m=\u001b[39m \u001b[43mMomentumMemory\u001b[49m\u001b[43m(\u001b[49m\n\u001b[1;32m      3\u001b[0m \u001b[43m            \u001b[49m\u001b[43msql_db\u001b[49m\u001b[43m \u001b[49m\u001b[38;5;241;43m=\u001b[39;49m\u001b[43m \u001b[49m\u001b[38;5;124;43m'\u001b[39;49m\u001b[38;5;124;43mmomentum_sql_db\u001b[39;49m\u001b[38;5;124;43m'\u001b[39;49m\u001b[43m,\u001b[49m\n\u001b[1;32m      4\u001b[0m \u001b[43m            \u001b[49m\u001b[43mmilvus_host\u001b[49m\u001b[43m \u001b[49m\u001b[38;5;241;43m=\u001b[39;49m\u001b[43m \u001b[49m\u001b[38;5;124;43m'\u001b[39;49m\u001b[38;5;124;43m18.171.129.243\u001b[39;49m\u001b[38;5;124;43m'\u001b[39;49m\u001b[43m,\u001b[49m\n\u001b[1;32m      5\u001b[0m \u001b[43m            \u001b[49m\u001b[43mmilvus_port\u001b[49m\u001b[43m \u001b[49m\u001b[38;5;241;43m=\u001b[39;49m\u001b[43m \u001b[49m\u001b[38;5;241;43m80\u001b[39;49m\u001b[43m,\u001b[49m\n\u001b[1;32m      6\u001b[0m \u001b[43m            \u001b[49m\u001b[43mmilvus_user\u001b[49m\u001b[43m \u001b[49m\u001b[38;5;241;43m=\u001b[39;49m\u001b[43m \u001b[49m\u001b[38;5;124;43m'\u001b[39;49m\u001b[38;5;124;43mroot\u001b[39;49m\u001b[38;5;124;43m'\u001b[39;49m\u001b[43m,\u001b[49m\n\u001b[1;32m      7\u001b[0m \u001b[43m            \u001b[49m\u001b[43mmilvus_psw\u001b[49m\u001b[43m \u001b[49m\u001b[38;5;241;43m=\u001b[39;49m\u001b[43m \u001b[49m\u001b[38;5;124;43m'\u001b[39;49m\u001b[38;5;124;43mNetMindMilvusDB\u001b[39;49m\u001b[38;5;124;43m'\u001b[39;49m\u001b[43m,\u001b[49m\n\u001b[1;32m      8\u001b[0m \u001b[43m            \u001b[49m\u001b[43msql_host\u001b[49m\u001b[43m \u001b[49m\u001b[38;5;241;43m=\u001b[39;49m\u001b[43m \u001b[49m\u001b[38;5;124;43m'\u001b[39;49m\u001b[38;5;124;43m18.171.129.243\u001b[39;49m\u001b[38;5;124;43m'\u001b[39;49m\u001b[43m,\u001b[49m\n\u001b[1;32m      9\u001b[0m \u001b[43m            \u001b[49m\u001b[43msql_port\u001b[49m\u001b[43m \u001b[49m\u001b[38;5;241;43m=\u001b[39;49m\u001b[43m \u001b[49m\u001b[38;5;241;43m3306\u001b[39;49m\u001b[43m,\u001b[49m\n\u001b[1;32m     10\u001b[0m \u001b[43m            \u001b[49m\u001b[43msql_user\u001b[49m\u001b[43m \u001b[49m\u001b[38;5;241;43m=\u001b[39;49m\u001b[43m \u001b[49m\u001b[38;5;124;43m'\u001b[39;49m\u001b[38;5;124;43mnetmind\u001b[39;49m\u001b[38;5;124;43m'\u001b[39;49m\u001b[43m,\u001b[49m\n\u001b[1;32m     11\u001b[0m \u001b[43m            \u001b[49m\u001b[43msql_psw\u001b[49m\u001b[43m \u001b[49m\u001b[38;5;241;43m=\u001b[39;49m\u001b[43m \u001b[49m\u001b[38;5;124;43m'\u001b[39;49m\u001b[38;5;124;43mNetMindMySQL\u001b[39;49m\u001b[38;5;124;43m'\u001b[39;49m\u001b[43m,\u001b[49m\n\u001b[1;32m     12\u001b[0m \u001b[43m        \u001b[49m\u001b[43m)\u001b[49m\n\u001b[1;32m     13\u001b[0m \u001b[38;5;66;03m# step 1 - success\u001b[39;00m\n\u001b[1;32m     14\u001b[0m step_1_status \u001b[38;5;241m=\u001b[39m \u001b[38;5;124m'\u001b[39m\u001b[38;5;124mI have obesity problem and my weight is 100 kg over the normal range\u001b[39m\u001b[38;5;124m'\u001b[39m\n",
      "File \u001b[0;32m~/Desktop/momentum_consciousness/NetMind_AI_XYZ/xyz/magics/../../xyz/magics/momentum/momentumMemory/MomentumMemory.py:114\u001b[0m, in \u001b[0;36mMomentumMemory.__init__\u001b[0;34m(self, milvus_db, sql_db, milvus_host, milvus_port, milvus_user, milvus_psw, sql_host, sql_port, sql_user, sql_psw, milvus_index)\u001b[0m\n\u001b[1;32m    111\u001b[0m     sql_con \u001b[38;5;241m=\u001b[39m pymysql\u001b[38;5;241m.\u001b[39mconnect(host\u001b[38;5;241m=\u001b[39msql_host, port\u001b[38;5;241m=\u001b[39msql_port, user\u001b[38;5;241m=\u001b[39msql_user, password\u001b[38;5;241m=\u001b[39msql_psw,)\n\u001b[1;32m    113\u001b[0m     \u001b[38;5;28;01mwith\u001b[39;00m sql_con\u001b[38;5;241m.\u001b[39mcursor() \u001b[38;5;28;01mas\u001b[39;00m cursor:\n\u001b[0;32m--> 114\u001b[0m         \u001b[43mcursor\u001b[49m\u001b[38;5;241;43m.\u001b[39;49m\u001b[43mexecute\u001b[49m\u001b[43m(\u001b[49m\u001b[38;5;124;43mf\u001b[39;49m\u001b[38;5;124;43m\"\u001b[39;49m\u001b[38;5;124;43mCREATE DATABASE IF NOT EXISTS \u001b[39;49m\u001b[38;5;132;43;01m{\u001b[39;49;00m\u001b[43msql_db\u001b[49m\u001b[38;5;132;43;01m}\u001b[39;49;00m\u001b[38;5;124;43m\"\u001b[39;49m\u001b[43m)\u001b[49m\n\u001b[1;32m    115\u001b[0m \u001b[38;5;28;01mfinally\u001b[39;00m:\n\u001b[1;32m    116\u001b[0m     sql_con\u001b[38;5;241m.\u001b[39mclose()\n",
      "File \u001b[0;32m~/opt/anaconda3/envs/gaming_demo/lib/python3.10/site-packages/pymysql/cursors.py:153\u001b[0m, in \u001b[0;36mCursor.execute\u001b[0;34m(self, query, args)\u001b[0m\n\u001b[1;32m    149\u001b[0m     \u001b[38;5;28;01mpass\u001b[39;00m\n\u001b[1;32m    151\u001b[0m query \u001b[38;5;241m=\u001b[39m \u001b[38;5;28mself\u001b[39m\u001b[38;5;241m.\u001b[39mmogrify(query, args)\n\u001b[0;32m--> 153\u001b[0m result \u001b[38;5;241m=\u001b[39m \u001b[38;5;28;43mself\u001b[39;49m\u001b[38;5;241;43m.\u001b[39;49m\u001b[43m_query\u001b[49m\u001b[43m(\u001b[49m\u001b[43mquery\u001b[49m\u001b[43m)\u001b[49m\n\u001b[1;32m    154\u001b[0m \u001b[38;5;28mself\u001b[39m\u001b[38;5;241m.\u001b[39m_executed \u001b[38;5;241m=\u001b[39m query\n\u001b[1;32m    155\u001b[0m \u001b[38;5;28;01mreturn\u001b[39;00m result\n",
      "File \u001b[0;32m~/opt/anaconda3/envs/gaming_demo/lib/python3.10/site-packages/pymysql/cursors.py:322\u001b[0m, in \u001b[0;36mCursor._query\u001b[0;34m(self, q)\u001b[0m\n\u001b[1;32m    320\u001b[0m conn \u001b[38;5;241m=\u001b[39m \u001b[38;5;28mself\u001b[39m\u001b[38;5;241m.\u001b[39m_get_db()\n\u001b[1;32m    321\u001b[0m \u001b[38;5;28mself\u001b[39m\u001b[38;5;241m.\u001b[39m_clear_result()\n\u001b[0;32m--> 322\u001b[0m \u001b[43mconn\u001b[49m\u001b[38;5;241;43m.\u001b[39;49m\u001b[43mquery\u001b[49m\u001b[43m(\u001b[49m\u001b[43mq\u001b[49m\u001b[43m)\u001b[49m\n\u001b[1;32m    323\u001b[0m \u001b[38;5;28mself\u001b[39m\u001b[38;5;241m.\u001b[39m_do_get_result()\n\u001b[1;32m    324\u001b[0m \u001b[38;5;28;01mreturn\u001b[39;00m \u001b[38;5;28mself\u001b[39m\u001b[38;5;241m.\u001b[39mrowcount\n",
      "File \u001b[0;32m~/opt/anaconda3/envs/gaming_demo/lib/python3.10/site-packages/pymysql/connections.py:558\u001b[0m, in \u001b[0;36mConnection.query\u001b[0;34m(self, sql, unbuffered)\u001b[0m\n\u001b[1;32m    556\u001b[0m     sql \u001b[38;5;241m=\u001b[39m sql\u001b[38;5;241m.\u001b[39mencode(\u001b[38;5;28mself\u001b[39m\u001b[38;5;241m.\u001b[39mencoding, \u001b[38;5;124m\"\u001b[39m\u001b[38;5;124msurrogateescape\u001b[39m\u001b[38;5;124m\"\u001b[39m)\n\u001b[1;32m    557\u001b[0m \u001b[38;5;28mself\u001b[39m\u001b[38;5;241m.\u001b[39m_execute_command(COMMAND\u001b[38;5;241m.\u001b[39mCOM_QUERY, sql)\n\u001b[0;32m--> 558\u001b[0m \u001b[38;5;28mself\u001b[39m\u001b[38;5;241m.\u001b[39m_affected_rows \u001b[38;5;241m=\u001b[39m \u001b[38;5;28;43mself\u001b[39;49m\u001b[38;5;241;43m.\u001b[39;49m\u001b[43m_read_query_result\u001b[49m\u001b[43m(\u001b[49m\u001b[43munbuffered\u001b[49m\u001b[38;5;241;43m=\u001b[39;49m\u001b[43munbuffered\u001b[49m\u001b[43m)\u001b[49m\n\u001b[1;32m    559\u001b[0m \u001b[38;5;28;01mreturn\u001b[39;00m \u001b[38;5;28mself\u001b[39m\u001b[38;5;241m.\u001b[39m_affected_rows\n",
      "File \u001b[0;32m~/opt/anaconda3/envs/gaming_demo/lib/python3.10/site-packages/pymysql/connections.py:822\u001b[0m, in \u001b[0;36mConnection._read_query_result\u001b[0;34m(self, unbuffered)\u001b[0m\n\u001b[1;32m    820\u001b[0m \u001b[38;5;28;01melse\u001b[39;00m:\n\u001b[1;32m    821\u001b[0m     result \u001b[38;5;241m=\u001b[39m MySQLResult(\u001b[38;5;28mself\u001b[39m)\n\u001b[0;32m--> 822\u001b[0m     \u001b[43mresult\u001b[49m\u001b[38;5;241;43m.\u001b[39;49m\u001b[43mread\u001b[49m\u001b[43m(\u001b[49m\u001b[43m)\u001b[49m\n\u001b[1;32m    823\u001b[0m \u001b[38;5;28mself\u001b[39m\u001b[38;5;241m.\u001b[39m_result \u001b[38;5;241m=\u001b[39m result\n\u001b[1;32m    824\u001b[0m \u001b[38;5;28;01mif\u001b[39;00m result\u001b[38;5;241m.\u001b[39mserver_status \u001b[38;5;129;01mis\u001b[39;00m \u001b[38;5;129;01mnot\u001b[39;00m \u001b[38;5;28;01mNone\u001b[39;00m:\n",
      "File \u001b[0;32m~/opt/anaconda3/envs/gaming_demo/lib/python3.10/site-packages/pymysql/connections.py:1200\u001b[0m, in \u001b[0;36mMySQLResult.read\u001b[0;34m(self)\u001b[0m\n\u001b[1;32m   1198\u001b[0m \u001b[38;5;28;01mdef\u001b[39;00m \u001b[38;5;21mread\u001b[39m(\u001b[38;5;28mself\u001b[39m):\n\u001b[1;32m   1199\u001b[0m     \u001b[38;5;28;01mtry\u001b[39;00m:\n\u001b[0;32m-> 1200\u001b[0m         first_packet \u001b[38;5;241m=\u001b[39m \u001b[38;5;28;43mself\u001b[39;49m\u001b[38;5;241;43m.\u001b[39;49m\u001b[43mconnection\u001b[49m\u001b[38;5;241;43m.\u001b[39;49m\u001b[43m_read_packet\u001b[49m\u001b[43m(\u001b[49m\u001b[43m)\u001b[49m\n\u001b[1;32m   1202\u001b[0m         \u001b[38;5;28;01mif\u001b[39;00m first_packet\u001b[38;5;241m.\u001b[39mis_ok_packet():\n\u001b[1;32m   1203\u001b[0m             \u001b[38;5;28mself\u001b[39m\u001b[38;5;241m.\u001b[39m_read_ok_packet(first_packet)\n",
      "File \u001b[0;32m~/opt/anaconda3/envs/gaming_demo/lib/python3.10/site-packages/pymysql/connections.py:739\u001b[0m, in \u001b[0;36mConnection._read_packet\u001b[0;34m(self, packet_type)\u001b[0m\n\u001b[1;32m    737\u001b[0m buff \u001b[38;5;241m=\u001b[39m \u001b[38;5;28mbytearray\u001b[39m()\n\u001b[1;32m    738\u001b[0m \u001b[38;5;28;01mwhile\u001b[39;00m \u001b[38;5;28;01mTrue\u001b[39;00m:\n\u001b[0;32m--> 739\u001b[0m     packet_header \u001b[38;5;241m=\u001b[39m \u001b[38;5;28;43mself\u001b[39;49m\u001b[38;5;241;43m.\u001b[39;49m\u001b[43m_read_bytes\u001b[49m\u001b[43m(\u001b[49m\u001b[38;5;241;43m4\u001b[39;49m\u001b[43m)\u001b[49m\n\u001b[1;32m    740\u001b[0m     \u001b[38;5;66;03m# if DEBUG: dump_packet(packet_header)\u001b[39;00m\n\u001b[1;32m    742\u001b[0m     btrl, btrh, packet_number \u001b[38;5;241m=\u001b[39m struct\u001b[38;5;241m.\u001b[39munpack(\u001b[38;5;124m\"\u001b[39m\u001b[38;5;124m<HBB\u001b[39m\u001b[38;5;124m\"\u001b[39m, packet_header)\n",
      "File \u001b[0;32m~/opt/anaconda3/envs/gaming_demo/lib/python3.10/site-packages/pymysql/connections.py:779\u001b[0m, in \u001b[0;36mConnection._read_bytes\u001b[0;34m(self, num_bytes)\u001b[0m\n\u001b[1;32m    777\u001b[0m \u001b[38;5;28;01mwhile\u001b[39;00m \u001b[38;5;28;01mTrue\u001b[39;00m:\n\u001b[1;32m    778\u001b[0m     \u001b[38;5;28;01mtry\u001b[39;00m:\n\u001b[0;32m--> 779\u001b[0m         data \u001b[38;5;241m=\u001b[39m \u001b[38;5;28;43mself\u001b[39;49m\u001b[38;5;241;43m.\u001b[39;49m\u001b[43m_rfile\u001b[49m\u001b[38;5;241;43m.\u001b[39;49m\u001b[43mread\u001b[49m\u001b[43m(\u001b[49m\u001b[43mnum_bytes\u001b[49m\u001b[43m)\u001b[49m\n\u001b[1;32m    780\u001b[0m         \u001b[38;5;28;01mbreak\u001b[39;00m\n\u001b[1;32m    781\u001b[0m     \u001b[38;5;28;01mexcept\u001b[39;00m \u001b[38;5;167;01mOSError\u001b[39;00m \u001b[38;5;28;01mas\u001b[39;00m e:\n",
      "File \u001b[0;32m~/opt/anaconda3/envs/gaming_demo/lib/python3.10/socket.py:705\u001b[0m, in \u001b[0;36mSocketIO.readinto\u001b[0;34m(self, b)\u001b[0m\n\u001b[1;32m    703\u001b[0m \u001b[38;5;28;01mwhile\u001b[39;00m \u001b[38;5;28;01mTrue\u001b[39;00m:\n\u001b[1;32m    704\u001b[0m     \u001b[38;5;28;01mtry\u001b[39;00m:\n\u001b[0;32m--> 705\u001b[0m         \u001b[38;5;28;01mreturn\u001b[39;00m \u001b[38;5;28;43mself\u001b[39;49m\u001b[38;5;241;43m.\u001b[39;49m\u001b[43m_sock\u001b[49m\u001b[38;5;241;43m.\u001b[39;49m\u001b[43mrecv_into\u001b[49m\u001b[43m(\u001b[49m\u001b[43mb\u001b[49m\u001b[43m)\u001b[49m\n\u001b[1;32m    706\u001b[0m     \u001b[38;5;28;01mexcept\u001b[39;00m timeout:\n\u001b[1;32m    707\u001b[0m         \u001b[38;5;28mself\u001b[39m\u001b[38;5;241m.\u001b[39m_timeout_occurred \u001b[38;5;241m=\u001b[39m \u001b[38;5;28;01mTrue\u001b[39;00m\n",
      "\u001b[0;31mKeyboardInterrupt\u001b[0m: "
     ]
    }
   ],
   "source": [
    "# step 1 - success\n",
    "step_1_status = 'I have obesity problem and my weight is 100 kg over the normal range'\n",
    "step_1_goal = 'Lose 100kg through medication or surgery to return my weight to normal levels.'\n",
    "step_1_action = 'Specify a weight loss plan through consultation with doctors and professionals.'\n",
    "step_1_feedback = 'Being 100 kg overweight may mean that weight loss cannot be achieved simply through exercise, and it may be reasonable to consider medications and surgery.'\n",
    "step_1 = memory_instance.save_memory(-1, 1, step_1_status, step_1_goal, step_1_action, step_1_feedback)\n",
    "\n",
    "# step 2.1 - success\n",
    "step_2P1_status = 'After professional evaluation, a plan to use surgery for weight loss was determined.'\n",
    "step_2P1_goal = 'Undergo bariatric surgery to remove 100 kg of excess fat.'\n",
    "step_2P1_action = 'Check into a suitable hospital and find a surgeon to perform the surgery.'\n",
    "step_2P1_feedback = 'Opting for surgical treatment can help you lose weight quickly and control your weight to a healthy level.'\n",
    "step_2P1 = memory_instance.save_memory(step_1, 2, step_2P1_status, step_2P1_goal, step_2P1_action, step_2P1_feedback)\n",
    "\n",
    "# step 2.2 - success\n",
    "step_2P2_status = 'Decided to use a new weight loss drug released by a pharmaceutical company.'\n",
    "step_2P2_goal = 'Gradually reduce body weight by 100kg by taking medication to reach a reasonable level.'\n",
    "step_2P2_action = 'Engage in outdoor activities such as brisk walking or cycling daily.'\n",
    "step_2P2_feedback = 'As an office worker, the frequency and intensity of outdoor exercise cannot meet the goal of losing 5 kg.'\n",
    "step_2P2 = memory_instance.save_memory(step_1, 2, step_2P2_status, step_2P2_goal, step_2P2_action, step_2P2_feedback)\n",
    "\n",
    "# step 3.1 - success\n",
    "step_3P1_status = 'Completed bariatric surgery and successfully achieved the goal of losing 100kg.'\n",
    "step_3P1_goal = 'Lose 100kg through surgery.'\n",
    "step_3P1_action = ''\n",
    "step_3P1_feedback = 'Surgical surgery is a proven method to rapidly achieve weight loss goals.'\n",
    "step_3P1 = memory_instance.save_memory(step_2P1, 3, step_3P1_status, step_3P1_goal, step_3P1_action, step_3P1_feedback)\n",
    "\n",
    "memory_instance.update_final_status(step_3P1, 'success')\n",
    "\n",
    "# step 3.2 - success\n",
    "step_3P2_status = 'Purchased a full course of weight loss pills and started taking them.'\n",
    "step_3P2_goal = 'Complete the entire course of treatment and record weight changes to verify whether the goal of losing 100kg has been achieved.'\n",
    "step_3P2_action = 'Check the medication for the entire course of treatment.'\n",
    "step_3P2_feedback = 'The use of weight loss pills is also a common way to lose weight, but you need to pay attention to individual physical differences and drug contraindications.'\n",
    "step_3P2 = memory_instance.save_memory(step_2P2, 3, step_3P2_status, step_3P2_goal, step_3P2_action, step_3P2_feedback)\n",
    "\n",
    "# step 4.2.1 - fail\n",
    "step_4P2P1_status = 'Side effects of taking medication resulted in severe loss of appetite and lethargy. Have stopped taking medication.'\n",
    "step_4P2P1_goal = 'Lose 100kg by taking diet pills.'\n",
    "step_4P2P1_action = ''\n",
    "step_4P2P1_feedback = 'Individuals may have adverse reactions to weight loss drugs, so you need to be careful when using this method to lose weight.'\n",
    "step_4P2P1 = memory_instance.save_memory(step_3P2, 4, step_4P2P1_status, step_4P2P1_goal, step_4P2P1_action, step_4P2P1_feedback)\n",
    "\n",
    "memory_instance.update_final_status(step_4P2P1, 'fail')\n",
    "\n",
    "# step 4.2.2 - success\n",
    "step_4P2P2_status = 'After completing the course of treatment, I successfully lost 100kg and my weight was controlled to a reasonable range.'\n",
    "step_4P2P2_goal = 'Lose 100kg by taking diet pills.'\n",
    "step_4P2P2_action = ''\n",
    "step_4P2P2_feedback = 'By improving your dietary habits and choosing high-frequency and high-intensity running, you can effectively achieve your weight loss goals.'\n",
    "step_4P2P2 = memory_instance.save_memory(step_3P2, 4, step_4P2P2_status, step_4P2P2_goal, step_4P2P2_action, step_4P2P2_feedback)\n",
    "\n",
    "memory_instance.update_final_status(step_4P2P2, 'success')\n",
    "\n",
    "\n",
    "\n",
    "\n",
    "# 添加两个\n",
    "# step 1 - success\n",
    "step_1_status = 'Exceeding weight by 10 kilograms.'\n",
    "step_1_goal = 'Reduce weight of 10 kg.'\n",
    "step_1_action = 'Establish a weight loss plan including diet and exercise.'\n",
    "step_1_feedback = 'Setting up a weight loss plan is the first step in starting the weight loss journey, laying the foundation for subsequent actions.'\n",
    "step_1 = memory_instance.save_memory(-1, 1, step_1_status, step_1_goal, step_1_action, step_1_feedback)\n",
    "\n",
    "# step 2 - success\n",
    "step_2_status = 'Weight loss plan established.'\n",
    "step_2_goal = 'Improve dietary habits to reduce weight.'\n",
    "step_2_action = 'Develop a healthy eating plan, reducing intake of high-calorie foods and increasing the proportion of vegetables and fruits.'\n",
    "step_2_feedback = 'Improving dietary habits helps control calorie intake, which is key to successful weight loss.'\n",
    "step_2 = memory_instance.save_memory(step_1, 2, step_2_status, step_2_goal, step_2_action, step_2_feedback)\n",
    "\n",
    "# step 3.1 - fail\n",
    "step_3P1_status = 'Improved eating habits have shown results, with a weight loss of 5 kg, but the target of 10 kg has not yet been reached'\n",
    "step_3P1_goal = 'Reduce the remaining 5kg through exercise.'\n",
    "step_3P1_action = 'Engage in outdoor activities such as brisk walking or cycling daily.'\n",
    "step_3P1_feedback = 'As an office worker, the frequency and intensity of outdoor exercise cannot meet the goal of losing 5 kg.'\n",
    "step_3P1 = memory_instance.save_memory(step_2, 3, step_3P1_status, step_3P1_goal, step_3P1_action, step_3P1_feedback)\n",
    "\n",
    "memory_instance.update_final_status(step_3P1, 'fail')\n",
    "\n",
    "# step 3.2 - success\n",
    "step_3P2_status = 'Improved eating habits have shown results, with a weight loss of 5 kg, but the target of 10 kg has not yet been reached'\n",
    "step_3P2_goal = 'Reduce the remaining 5kg through exercise.'\n",
    "step_3P2_action = 'Join a gym and engage in regular aerobic and strength training.'\n",
    "step_3P2_feedback = 'Gyms can provide high-frequency and high-intensity training, which is an effective option for weight loss.'\n",
    "step_3P2 = memory_instance.save_memory(step_2, 3, step_3P2_status, step_3P2_goal, step_3P2_action, step_3P2_feedback)\n",
    "\n",
    "# step 4.2.1 - fail\n",
    "step_4P2P1_status = 'Joined a gym and needs to choose a physical activity to lose 5 kg.'\n",
    "step_4P2P1_goal = 'Choose exercises suitable for rapid weight loss.'\n",
    "step_4P2P1_action = 'Participating in aerobic dance classes.'\n",
    "step_4P2P1_feedback = 'The weight loss speed of aerobic dance is too slow and prone to rebound.'\n",
    "step_4P2P1 = memory_instance.save_memory(step_3P2, 4, step_4P2P1_status, step_4P2P1_goal, step_4P2P1_action, step_4P2P1_feedback)\n",
    "\n",
    "memory_instance.update_final_status(step_4P2P1, 'fail')\n",
    "\n",
    "# step 4.2.2 - success\n",
    "step_4P2P2_status = 'Joined a gym and needs to choose a physical activity to lose 5 kg.'\n",
    "step_4P2P2_goal = 'Choose exercises suitable for rapid weight loss.'\n",
    "step_4P2P2_action = 'Engaged in HIIT training.'\n",
    "step_4P2P2_feedback = 'The training intensity of HIIT training is very high and it is specially designed for weight loss. It is very right to choose this exercise.'\n",
    "step_4P2P2 = memory_instance.save_memory(step_3P2, 4, step_4P2P2_status, step_4P2P2_goal, step_4P2P2_action, step_4P2P2_feedback)\n",
    "\n",
    "# step 5.2.2 - success\n",
    "step_5_status = 'Achieve weight loss goals through physical exercise'\n",
    "step_5_goal = ''\n",
    "step_5_action = ''\n",
    "step_5_feedback = 'By improving your dietary habits and choosing high-frequency and high-intensity running, you can effectively achieve your weight loss goals.'\n",
    "step_5 = memory_instance.save_memory(step_4P2P2, 5, step_5_status, step_5_goal, step_5_action, step_5_feedback)\n",
    "\n",
    "memory_instance.update_final_status(step_5, 'success')"
   ]
  },
  {
   "cell_type": "code",
   "execution_count": null,
   "metadata": {},
   "outputs": [],
   "source": [
    "test_Consciousness = ConsciousnessModule(shortterm_memory = memory_instance)\n",
    "test_consciousness.construct_graph()\n",
    "test_consciousness.distribute_energy()"
   ]
  },
  {
   "cell_type": "code",
   "execution_count": null,
   "metadata": {},
   "outputs": [],
   "source": [
    "test_consciousness.show_graph()"
   ]
  }
 ],
 "metadata": {
  "kernelspec": {
   "display_name": "gaming_demo",
   "language": "python",
   "name": "python3"
  },
  "language_info": {
   "codemirror_mode": {
    "name": "ipython",
    "version": 3
   },
   "file_extension": ".py",
   "mimetype": "text/x-python",
   "name": "python",
   "nbconvert_exporter": "python",
   "pygments_lexer": "ipython3",
   "version": "3.10.13"
  }
 },
 "nbformat": 4,
 "nbformat_minor": 2
}
