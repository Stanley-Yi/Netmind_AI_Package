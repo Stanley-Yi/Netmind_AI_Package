{
 "cells": [
  {
   "cell_type": "code",
   "execution_count": 1,
   "metadata": {},
   "outputs": [],
   "source": [
    "import sys\n",
    "import os\n",
    "sys.path.append(\"../..\")\n",
    "\n",
    "from user_settings import *\n",
    "from xyz.magics.agent.ThinkingFlow import ThinkingFlow\n",
    "from xyz.magics.momentum.MomentumModule import MomentumModule\n",
    "from xyz.magics.agent.MomentumThinkingFlow import MomentumThinkingflow\n"
   ]
  },
  {
   "cell_type": "markdown",
   "metadata": {},
   "source": [
    "### divide to tree struct"
   ]
  },
  {
   "cell_type": "code",
   "execution_count": 2,
   "metadata": {},
   "outputs": [],
   "source": [
    "test_task1 = \"\"\"You will become a researcher on multi-llm agent framework. You need to read paper/code of current state of art framework of multi-llm agents. Ultimately, I want you to be able to \n",
    "design and implement your own structure with useful difference compare to the existing structures\"\"\"\n",
    "test_task2= \"I want to keep promote my product to customer, I want to know how to do it online and offline\"\n",
    "sub_test_task1 = \"\"\"Establish a Foundation in Multi-Agent Systems\\n- Begin by reading introductory materials on multi-agent systems to understand the basic concepts, terminology, and theoretical underpinnings.\n",
    "\\n- Identify and complete any prerequisite learning, such as courses or tutorials on artificial intelligence, machine learning, and software engineering principles relevant to multi-agent systems.\"\"\"\n",
    "sub_test_task2 = \"\"\"Conduct a Literature Review\\n- Search for and compile a list of recent papers and articles on multi-agent systems, specifically focusing on frameworks that utilize language learning models (LLMs).\n",
    "\\n- Organize the literature by themes, such as architecture, communication protocols, learning strategies, and application domains.\"\"\""
   ]
  },
  {
   "cell_type": "code",
   "execution_count": 3,
   "metadata": {},
   "outputs": [],
   "source": [
    "test_momentum_tf = MomentumThinkingflow()\n",
    "testMomentum = MomentumModule(goal=test_task1, energy=90, decay_func=None, longterm_memory=None, shortterm_memory=None, thinkingflow=test_momentum_tf)"
   ]
  },
  {
   "cell_type": "code",
   "execution_count": 4,
   "metadata": {},
   "outputs": [
    {
     "data": {
      "text/plain": [
       "[('Step1',\n",
       "  'initial',\n",
       "  'Define the scope and objectives - Identify the specific area of multi-agent systems you want to focus on. - Determine what you aim to achieve with your research (e.g., improve efficiency, enhance communication protocols, introduce a new algorithm).'),\n",
       " ('Step2',\n",
       "  'Step1',\n",
       "  'Conduct a literature review - Search for recent papers on multi-agent systems and language learning models (LLMs). - Create a list of relevant papers and frameworks to review.'),\n",
       " ('Step3',\n",
       "  'Step2',\n",
       "  'Organize the literature - Categorize the papers and frameworks based on their approaches, strengths, and weaknesses. - Summarize the key findings and methodologies of each paper/framework.'),\n",
       " ('Step4',\n",
       "  'Step3',\n",
       "  'Gain foundational knowledge - Read foundational papers or textbooks on multi-agent systems and LLMs to ensure a solid understanding of the field.'),\n",
       " ('Step5',\n",
       "  'Step4',\n",
       "  'Deep dive into state-of-the-art frameworks - Select the most relevant and recent state-of-the-art frameworks from your literature review. - Study their codebases, if available, to understand their implementation details.'),\n",
       " ('Step6',\n",
       "  'Step5',\n",
       "  'Identify gaps and opportunities - Analyze the current frameworks to find limitations, challenges, or areas that could be improved. - Document these gaps as potential opportunities for your research.'),\n",
       " ('Step7',\n",
       "  'Step6',\n",
       "  'Learn necessary skills and tools - Identify the programming languages and tools commonly used in the frameworks. - If necessary, take courses or tutorials to learn or improve your skills in these areas.'),\n",
       " ('Step8',\n",
       "  'Step7',\n",
       "  'Develop a research proposal - Based on the gaps and opportunities identified, draft a research proposal outlining your intended contribution to the field. - Define the methodology, expected outcomes, and a timeline for your research.'),\n",
       " ('Step9',\n",
       "  'Step8',\n",
       "  'Seek feedback - Present your proposal to peers or mentors to get feedback. - Refine your proposal based on the feedback received.'),\n",
       " ('Step10',\n",
       "  'Step9',\n",
       "  'Set up the research environment - Prepare your development environment with the necessary software and tools. - If necessary, acquire computational resources or access to datasets.'),\n",
       " ('Step11',\n",
       "  'Step10',\n",
       "  'Start small-scale experimentation - Begin by implementing small, manageable components of your proposed framework. - Test these components individually to ensure they work as expected.'),\n",
       " ('Step12',\n",
       "  'Step11',\n",
       "  'Iterate and expand - Gradually combine the components and build more complex structures. - Continuously test and refine each part of the system.'),\n",
       " ('Step13',\n",
       "  'Step12',\n",
       "  'Document your progress - Keep detailed records of your design choices, experiments, and results. - Write up your findings and insights as you go along.'),\n",
       " ('Step14',\n",
       "  'Step13',\n",
       "  'Compare with existing frameworks - Once you have a working prototype, compare its performance and features with the state-of-the-art frameworks you studied earlier.'),\n",
       " ('Step15',\n",
       "  'Step14',\n",
       "  'Refine your framework - Based on the comparison, make necessary adjustments to improve your framework. - Consider adding unique features or optimizations that distinguish your work from existing solutions.'),\n",
       " ('Step16',\n",
       "  'Step15',\n",
       "  'Peer review and collaboration - Share your framework with other researchers for peer review. - Collaborate with others to further refine and improve the framework.'),\n",
       " ('Step17',\n",
       "  'Step16',\n",
       "  'Finalize and document your framework - Ensure that your framework is well-documented, with clear instructions for use and a list of contributions. - Prepare a final report or paper detailing your research process, framework design, and the benefits of your contributions.'),\n",
       " ('Step18',\n",
       "  'Step17',\n",
       "  'Publish and disseminate - Submit your work to relevant journals or conferences. - Share your codebase and documentation publicly for others to use and build upon.')]"
      ]
     },
     "execution_count": 4,
     "metadata": {},
     "output_type": "execute_result"
    }
   ],
   "source": [
    "testMomentum.decompose()"
   ]
  }
 ],
 "metadata": {
  "kernelspec": {
   "display_name": "gaming_demo",
   "language": "python",
   "name": "python3"
  },
  "language_info": {
   "codemirror_mode": {
    "name": "ipython",
    "version": 3
   },
   "file_extension": ".py",
   "mimetype": "text/x-python",
   "name": "python",
   "nbconvert_exporter": "python",
   "pygments_lexer": "ipython3",
   "version": "3.10.13"
  }
 },
 "nbformat": 4,
 "nbformat_minor": 2
}
