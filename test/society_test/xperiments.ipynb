{
 "cells": [
  {
   "cell_type": "code",
   "execution_count": null,
   "id": "initial_id",
   "metadata": {
    "collapsed": true
   },
   "outputs": [],
   "source": []
  },
  {
   "cell_type": "code",
   "outputs": [],
   "source": [
    "\n",
    "from abc import ABCMeta, abstractmethod\n",
    "\n",
    "class animal:\n",
    "    \n",
    "    def __init__(self):\n",
    "        print(\"Initializing\")\n",
    "        \n",
    "    @abstractmethod\n",
    "    def eat(self, *args, **kwargs):\n",
    "        pass\n",
    "    \n",
    "    @abstractmethod\n",
    "    def name(self, *args, **kwargs):\n",
    "        pass \n",
    "        "
   ],
   "metadata": {
    "collapsed": false,
    "ExecuteTime": {
     "end_time": "2024-03-15T07:42:19.540878Z",
     "start_time": "2024-03-15T07:42:19.535704Z"
    }
   },
   "id": "fafc84e80d3990e3",
   "execution_count": 10
  },
  {
   "cell_type": "code",
   "outputs": [],
   "source": [
    "class dog(animal):\n",
    "    \n",
    "    def __init__(self):\n",
    "        super().__init__() \n",
    "        self.name = \"dog\"\n",
    "        \n",
    "    def eat(self):\n",
    "        print(\"吃骨头\")\n",
    "        \n",
    "    @property        \n",
    "    def my_name(self):\n",
    "        print(self.name)\n",
    "\n"
   ],
   "metadata": {
    "collapsed": false,
    "ExecuteTime": {
     "end_time": "2024-03-15T07:44:21.465228Z",
     "start_time": "2024-03-15T07:44:21.460686Z"
    }
   },
   "id": "31627beb75a6daf7",
   "execution_count": 11
  },
  {
   "cell_type": "code",
   "outputs": [
    {
     "name": "stdout",
     "output_type": "stream",
     "text": [
      "Initializing\n"
     ]
    }
   ],
   "source": [
    "d = dog()"
   ],
   "metadata": {
    "collapsed": false,
    "ExecuteTime": {
     "end_time": "2024-03-15T07:44:33.153442Z",
     "start_time": "2024-03-15T07:44:33.149146Z"
    }
   },
   "id": "49551e4d859acac6",
   "execution_count": 12
  },
  {
   "cell_type": "code",
   "outputs": [
    {
     "name": "stdout",
     "output_type": "stream",
     "text": [
      "dog\n"
     ]
    }
   ],
   "source": [
    "d.my_name"
   ],
   "metadata": {
    "collapsed": false,
    "ExecuteTime": {
     "end_time": "2024-03-15T07:44:39.611161Z",
     "start_time": "2024-03-15T07:44:39.605198Z"
    }
   },
   "id": "cb281ccf218256a2",
   "execution_count": 13
  },
  {
   "cell_type": "code",
   "outputs": [],
   "source": [
    "from typing import Dict\n",
    "\n",
    "a = dict()"
   ],
   "metadata": {
    "collapsed": false,
    "ExecuteTime": {
     "end_time": "2024-03-15T07:56:55.331593Z",
     "start_time": "2024-03-15T07:56:55.328107Z"
    }
   },
   "id": "a8c06a5234b6e12c",
   "execution_count": 18
  },
  {
   "cell_type": "code",
   "outputs": [],
   "source": [
    "a[\"a\"] = \"b\""
   ],
   "metadata": {
    "collapsed": false,
    "ExecuteTime": {
     "end_time": "2024-03-15T07:56:57.301310Z",
     "start_time": "2024-03-15T07:56:57.297628Z"
    }
   },
   "id": "121494dfed8f8821",
   "execution_count": 19
  },
  {
   "cell_type": "code",
   "outputs": [],
   "source": [],
   "metadata": {
    "collapsed": false
   },
   "id": "4706b411b287b68b"
  }
 ],
 "metadata": {
  "kernelspec": {
   "display_name": "Python 3",
   "language": "python",
   "name": "python3"
  },
  "language_info": {
   "codemirror_mode": {
    "name": "ipython",
    "version": 2
   },
   "file_extension": ".py",
   "mimetype": "text/x-python",
   "name": "python",
   "nbconvert_exporter": "python",
   "pygments_lexer": "ipython2",
   "version": "2.7.6"
  }
 },
 "nbformat": 4,
 "nbformat_minor": 5
}
