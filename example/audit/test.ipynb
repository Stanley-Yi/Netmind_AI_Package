{
 "cells": [
  {
   "cell_type": "markdown",
   "metadata": {},
   "source": [
    "# generate dynamic pdf based on html template"
   ]
  },
  {
   "cell_type": "code",
   "execution_count": 31,
   "metadata": {},
   "outputs": [],
   "source": [
    "from jinja2 import Environment, FileSystemLoader\n",
    "from weasyprint import HTML\n",
    "\n",
    "# Prepare data\n",
    "transactions = [\n",
    "    {\"Date\": \"2024-03-01\", \"Description\": \"Coffee Shop\", \"Credit\": \"$50.00\", \"Debit\": \"-$5.00\", \"Balance\": \"$995.00\"},\n",
    "    #{\"date\": \"2024-03-02\", \"description\": \"Book Store\", \"amount\": \"-$20.00\", \"balance\": \"$975.00\"},\n",
    "    # Add more transactions\n",
    "]\n",
    "\n",
    "# Load template\n",
    "env = Environment(loader=FileSystemLoader(''))\n",
    "template = env.get_template('html/statement-template.html')\n",
    "\n",
    "# Render HTML content\n",
    "html_content = template.render(transactions=transactions)\n",
    "\n",
    "# Generate PDF\n",
    "HTML(string=html_content).write_pdf('pdf/bank_statement.pdf')"
   ]
  },
  {
   "cell_type": "markdown",
   "metadata": {},
   "source": [
    "# convert pdf to image "
   ]
  },
  {
   "cell_type": "code",
   "execution_count": 32,
   "metadata": {},
   "outputs": [
    {
     "data": {
      "text/plain": [
       "True"
      ]
     },
     "execution_count": 32,
     "metadata": {},
     "output_type": "execute_result"
    }
   ],
   "source": [
    "import pdf2image\n",
    "import numpy as np\n",
    "import cv2\n",
    "def pdftopages(path):\n",
    "    \"\"\"Input: PDF Filepath, Output: List of Page objects.\"\"\"\n",
    "    pil_pages = pdf2image.convert_from_path(path)\n",
    "    #save_pil_images(pil_pages, os.path.join(local_store_folder, self.name + \"pages\"))\n",
    "    page_imgs = [cv2.cvtColor(np.asarray(p), cv2.COLOR_RGB2BGR) for p in pil_pages]\n",
    "    return page_imgs\n",
    "imgs = pdftopages('pdf/bank_statement.pdf')\n",
    "cv2.imwrite('img/bk.png', imgs[0])"
   ]
  },
  {
   "cell_type": "markdown",
   "metadata": {},
   "source": [
    "# convert img to latex using mathpix"
   ]
  },
  {
   "cell_type": "code",
   "execution_count": 33,
   "metadata": {},
   "outputs": [],
   "source": [
    "from dotenv import load_dotenv\n",
    "import os\n",
    "from mathpix import MathpixProcessor\n",
    "# Load the environment variables from the .env file\n",
    "load_dotenv()\n",
    "app_key = os.getenv('mathpix_app_key')\n",
    "app_id = os.getenv('mathpix_app_id')\n",
    "mathpix_processor = MathpixProcessor(app_id=app_id, app_key=app_key)"
   ]
  },
  {
   "cell_type": "code",
   "execution_count": 34,
   "metadata": {},
   "outputs": [],
   "source": [
    "image_path = 'img/bk.png'\n",
    "text, images = mathpix_processor.recognize_image(image_path)"
   ]
  },
  {
   "cell_type": "code",
   "execution_count": 1,
   "metadata": {},
   "outputs": [],
   "source": [
    "text = 'Overview\\nBank Statement Template 1\\n(C)\\n\\nSheet 1: Bank Statement Template 1\\n231 Valley Farms Street\\nSanta Monica, CA 90403\\nfirstcitizensbank@domain.com\\n\\nAccount Number: 111-234-567-890\\nStatement Date: \\\\( \\\\mathrm{mm} / \\\\mathrm{dd} / \\\\mathrm{yyyy} \\\\)\\nPeriod Covered: \\\\( \\\\mathrm{mm} / \\\\mathrm{dd} / \\\\) yyyy to \\\\( \\\\mathrm{mm} / \\\\mathrm{dd} / \\\\) yyyy\\n\\nJohn Smith\\n2450 Courage St, STE 108\\nBrownsville, TX 78521\\n<Branch Name>\\nSTATEMENT OF ACCOUNT\\nOpening Balance:\\nTotal Credit Amount:\\nTotal Debit Amount:\\nClosing Balance:\\nAccount Type:\\nNumber of Transactions:\\nPage 1 of 1\\n\\\\( 175,800.00 \\\\)\\n\\\\( 510,000.00 \\\\)\\n\\\\( 94,000.00 \\\\)\\n\\\\( 591,800.00 \\\\)\\nCurrent Account\\n8\\n\\nTransactions\\n\\\\begin{tabular}{lllll}\\n\\\\hline Date & Description & Credit & Debit & Balance \\\\\\\\\\n\\\\( 2024-03-01 \\\\) & Coffee Shopd & \\\\( \\\\$ 50.00 \\\\) & \\\\( -\\\\$ 5.00 \\\\) & \\\\( \\\\$ 995.00 \\\\) \\\\\\\\\\nmm/dd/yyyy & Payment - Insurance & & \\\\( 3,000.00 \\\\) & \\\\( 167,400.00 \\\\) \\\\\\\\\\nmm/dd/yyyy & Account Transfer In & \\\\( 500,000.00 \\\\) & \\\\( 667,400.00 \\\\) \\\\\\\\\\nmm/dd/yyyy & Cheque Deposite & \\\\( 10,000.00 \\\\) & \\\\( 677,400.00 \\\\) \\\\\\\\\\nmm/dd/yyyy & Payment - Electricity & & \\\\( 1,500.00 \\\\) & \\\\( 675,900.00 \\\\) \\\\\\\\\\nmm/dd/yyyy & Payment - Water Utility & & 600.00 & \\\\( 675,300.00 \\\\) \\\\\\\\\\nmm/dd/yyyy & Payment - Car Loan & & \\\\( 3,500.00 \\\\) & \\\\( 671,800.00 \\\\) \\\\\\\\\\nmm/dd/yyyy & Account Transfer Out & & \\\\( 80,000.00591,800.00 \\\\)\\n\\\\end{tabular}'"
   ]
  },
  {
   "cell_type": "markdown",
   "metadata": {},
   "source": [
    "# extract info with llm"
   ]
  },
  {
   "cell_type": "code",
   "execution_count": 1,
   "metadata": {},
   "outputs": [],
   "source": [
    "import sys\n",
    "import os\n",
    "from dotenv import load_dotenv\n",
    "# Load the environment variables from the .env file\n",
    "load_dotenv()\n",
    "from xyz.node.agent import Agent\n",
    "from xyz.node.basic.llm_agent import LLMAgent\n",
    "from xyz.utils.llm.openai_agent import OpenAIAgent\n",
    "OPENAI_API_KEY = os.getenv('OPENAI_API_KEY')"
   ]
  },
  {
   "cell_type": "code",
   "execution_count": 2,
   "metadata": {},
   "outputs": [],
   "source": [
    "class Audit(Agent):\n",
    "    def __init__(self):\n",
    "        self.openai_agent = OpenAIAgent(api_key=OPENAI_API_KEY, model='gpt-4-0125-preview', temperature=0., top_p=1.0,\n",
    "                                        max_tokens=2096)\n",
    "        super().__init__(\n",
    "            self.openai_agent)  # 这里需要传进去一个 xyz.utils.llm 里的语言模型，目前只有 openai（为了 之后的自驱动做准备，其实也并不是必须的。可以什么也不传。）\n",
    "\n",
    "        self.set_name(\"auditSolver\")\n",
    "        self.set_description(\"This is a audit agent that extracting information from bank statement.\")\n",
    "        self.set_parameters({\"file\": {\"type\": \"str\", \"description\": \"The latex version of the pdf file\"}})\n",
    "\n",
    "        self.llm_cot_agent = LLMAgent(AUDIT, self.openai_agent, inner_multi=False, stream=False)\n",
    "\n",
    "    def flowing(self, file: str) -> str:\n",
    "        response = self.llm_cot_agent(file=file)\n",
    "\n",
    "        return response\n",
    "\n",
    "\n",
    "AUDIT = {\n",
    "    \"system\": \"\"\"Now, you are a Audit assistant who can help user to extract information from bank statement.\n",
    "    ## You must follow all the requirements to modify the draft:\n",
    "        1. You must extract the name of the bank from this bank statement.\n",
    "        2. You must extract the name of person from this bank statement .\n",
    "        3. You must extract the statemtent date from this bank statement.\n",
    "        4. You must extract the Period Coverd from this bank statement.\n",
    "        5. You must extract the Opening Balance from this bank statement.\n",
    "        6. You must extract the Closing Balance from this bank statement.\n",
    "        7. You must extract all the transactions history from this bank statement.\n",
    "    \n",
    "    ## About the output:\n",
    "        Your output must be a json file containing a python dictionary to store the extracted information in the format looks like this: \n",
    "        \n",
    "        {\n",
    "            \"bank_name\": \"xxx\",\n",
    "            \"person_name\": \"xxx\",\n",
    "            \"statement_date\": \"xxx\",\n",
    "            \"period_covered\": \"xxx\",\n",
    "            \"opening_balance\": \"xxx\",\n",
    "            \"closing_balance\": \"xxx\",\n",
    "            \"transactions\": [\n",
    "                {\"date\": \"xxx\", \"description\": \"xxx\", \"credit\": \"xxx\", \"debit\": \"xxx\", \"balance\": \"xxx\"},\n",
    "                # Add more transactions\n",
    "            ]\n",
    "        }\n",
    "        You must follow all requirements listed above. \n",
    "        Your output must contain the json file quoted by \"```json\" and \"```\"\n",
    "\n",
    "    \"\"\",\n",
    "    \"user\": \"\"\"\n",
    "The bank statement is:\n",
    "\n",
    "{file}\n",
    "\"\"\"}\n"
   ]
  },
  {
   "cell_type": "code",
   "execution_count": 3,
   "metadata": {},
   "outputs": [
    {
     "ename": "KeyError",
     "evalue": "'\\n            \"bank_name\"'",
     "output_type": "error",
     "traceback": [
      "\u001b[0;31m---------------------------------------------------------------------------\u001b[0m",
      "\u001b[0;31mKeyError\u001b[0m                                  Traceback (most recent call last)",
      "Cell \u001b[0;32mIn[3], line 5\u001b[0m\n\u001b[1;32m      1\u001b[0m question \u001b[38;5;241m=\u001b[39m (\u001b[38;5;124m\"\u001b[39m\u001b[38;5;124mAs n ranges over all positive integers，how many possible values can $\u001b[39m\u001b[38;5;124m\\\u001b[39m\u001b[38;5;124moperatorname\u001b[39m\u001b[38;5;132;01m{gcd}\u001b[39;00m\u001b[38;5;124m(6 n+ 15,10 \u001b[39m\u001b[38;5;124m\"\u001b[39m\n\u001b[1;32m      2\u001b[0m             \u001b[38;5;124m\"\u001b[39m\u001b[38;5;124mn+21)$ equal？The notation $\u001b[39m\u001b[38;5;124m\\\u001b[39m\u001b[38;5;124moperatorname\u001b[39m\u001b[38;5;132;01m{gcd}\u001b[39;00m\u001b[38;5;124m(a, b)$ represents the greatest common divisor of $a$ \u001b[39m\u001b[38;5;124m\"\u001b[39m\n\u001b[1;32m      3\u001b[0m             \u001b[38;5;124m\"\u001b[39m\u001b[38;5;124mand $b$\u001b[39m\u001b[38;5;124m\"\u001b[39m)\n\u001b[1;32m      4\u001b[0m audit_solver \u001b[38;5;241m=\u001b[39m Audit()\n\u001b[0;32m----> 5\u001b[0m info \u001b[38;5;241m=\u001b[39m \u001b[43maudit_solver\u001b[49m\u001b[43m(\u001b[49m\u001b[43mfile\u001b[49m\u001b[38;5;241;43m=\u001b[39;49m\u001b[43mquestion\u001b[49m\u001b[43m)\u001b[49m\n",
      "File \u001b[0;32m~/xiangpeng/NetMind_AI_XYZ/example/audit/xyz/node/agent.py:62\u001b[0m, in \u001b[0;36mAgent._wrap_call\u001b[0;34m(self, **kwargs)\u001b[0m\n\u001b[1;32m     60\u001b[0m     \u001b[38;5;28;01mreturn\u001b[39;00m \u001b[38;5;28mself\u001b[39m\u001b[38;5;241m.\u001b[39mflowing(\u001b[38;5;241m*\u001b[39m\u001b[38;5;241m*\u001b[39mparameters)\n\u001b[1;32m     61\u001b[0m \u001b[38;5;28;01melse\u001b[39;00m:\n\u001b[0;32m---> 62\u001b[0m     \u001b[38;5;28;01mreturn\u001b[39;00m \u001b[38;5;28;43mself\u001b[39;49m\u001b[38;5;241;43m.\u001b[39;49m\u001b[43mflowing\u001b[49m\u001b[43m(\u001b[49m\u001b[38;5;241;43m*\u001b[39;49m\u001b[38;5;241;43m*\u001b[39;49m\u001b[43mkwargs\u001b[49m\u001b[43m)\u001b[49m\n",
      "Cell \u001b[0;32mIn[2], line 15\u001b[0m, in \u001b[0;36mAudit.flowing\u001b[0;34m(self, file)\u001b[0m\n\u001b[1;32m     14\u001b[0m \u001b[38;5;28;01mdef\u001b[39;00m \u001b[38;5;21mflowing\u001b[39m(\u001b[38;5;28mself\u001b[39m, file: \u001b[38;5;28mstr\u001b[39m) \u001b[38;5;241m-\u001b[39m\u001b[38;5;241m>\u001b[39m \u001b[38;5;28mstr\u001b[39m:\n\u001b[0;32m---> 15\u001b[0m     response \u001b[38;5;241m=\u001b[39m \u001b[38;5;28;43mself\u001b[39;49m\u001b[38;5;241;43m.\u001b[39;49m\u001b[43mllm_cot_agent\u001b[49m\u001b[43m(\u001b[49m\u001b[43mfile\u001b[49m\u001b[38;5;241;43m=\u001b[39;49m\u001b[43mfile\u001b[49m\u001b[43m)\u001b[49m\n\u001b[1;32m     17\u001b[0m     \u001b[38;5;28;01mreturn\u001b[39;00m response\n",
      "File \u001b[0;32m~/xiangpeng/NetMind_AI_XYZ/example/audit/xyz/node/agent.py:62\u001b[0m, in \u001b[0;36mAgent._wrap_call\u001b[0;34m(self, **kwargs)\u001b[0m\n\u001b[1;32m     60\u001b[0m     \u001b[38;5;28;01mreturn\u001b[39;00m \u001b[38;5;28mself\u001b[39m\u001b[38;5;241m.\u001b[39mflowing(\u001b[38;5;241m*\u001b[39m\u001b[38;5;241m*\u001b[39mparameters)\n\u001b[1;32m     61\u001b[0m \u001b[38;5;28;01melse\u001b[39;00m:\n\u001b[0;32m---> 62\u001b[0m     \u001b[38;5;28;01mreturn\u001b[39;00m \u001b[38;5;28;43mself\u001b[39;49m\u001b[38;5;241;43m.\u001b[39;49m\u001b[43mflowing\u001b[49m\u001b[43m(\u001b[49m\u001b[38;5;241;43m*\u001b[39;49m\u001b[38;5;241;43m*\u001b[39;49m\u001b[43mkwargs\u001b[49m\u001b[43m)\u001b[49m\n",
      "File \u001b[0;32m~/xiangpeng/NetMind_AI_XYZ/example/audit/xyz/node/basic/llm_agent.py:56\u001b[0m, in \u001b[0;36mLLMAgent.flowing\u001b[0;34m(self, messages, tools, **kwargs)\u001b[0m\n\u001b[1;32m     52\u001b[0m \u001b[38;5;28;01mdef\u001b[39;00m \u001b[38;5;21mflowing\u001b[39m(\u001b[38;5;28mself\u001b[39m, messages\u001b[38;5;241m=\u001b[39m[], tools\u001b[38;5;241m=\u001b[39m[], \u001b[38;5;241m*\u001b[39m\u001b[38;5;241m*\u001b[39mkwargs) \u001b[38;5;241m-\u001b[39m\u001b[38;5;241m>\u001b[39m \u001b[38;5;28mstr\u001b[39m:\n\u001b[1;32m     53\u001b[0m \u001b[38;5;250m    \u001b[39m\u001b[38;5;124;03m\"\"\"When you call this agent, we will run the agent with the given keyword arguments from the prompts.\u001b[39;00m\n\u001b[1;32m     54\u001b[0m \u001b[38;5;124;03m        Before we call the OpenAI's API, we do some interface on this message.\u001b[39;00m\n\u001b[1;32m     55\u001b[0m \u001b[38;5;124;03m    \"\"\"\u001b[39;00m\n\u001b[0;32m---> 56\u001b[0m     system_message, current_message \u001b[38;5;241m=\u001b[39m \u001b[38;5;28;43mself\u001b[39;49m\u001b[38;5;241;43m.\u001b[39;49m\u001b[43m_complete_prompts\u001b[49m\u001b[43m(\u001b[49m\u001b[38;5;241;43m*\u001b[39;49m\u001b[38;5;241;43m*\u001b[39;49m\u001b[43mkwargs\u001b[49m\u001b[43m)\u001b[49m\n\u001b[1;32m     57\u001b[0m     \u001b[38;5;66;03m# current_message = self._using_thinking_flow(system_message, user_message)\u001b[39;00m\n\u001b[1;32m     59\u001b[0m     \u001b[38;5;28;01mif\u001b[39;00m \u001b[38;5;28mself\u001b[39m\u001b[38;5;241m.\u001b[39mgenerate_parameters[\u001b[38;5;124m\"\u001b[39m\u001b[38;5;124minner_multi\u001b[39m\u001b[38;5;124m\"\u001b[39m]:\n",
      "File \u001b[0;32m~/xiangpeng/NetMind_AI_XYZ/example/audit/xyz/node/basic/llm_agent.py:157\u001b[0m, in \u001b[0;36mLLMAgent._complete_prompts\u001b[0;34m(self, **kwargs)\u001b[0m\n\u001b[1;32m    153\u001b[0m user \u001b[38;5;241m=\u001b[39m \u001b[38;5;28mself\u001b[39m\u001b[38;5;241m.\u001b[39mtemplate[\u001b[38;5;124m\"\u001b[39m\u001b[38;5;124muser\u001b[39m\u001b[38;5;124m\"\u001b[39m]\n\u001b[1;32m    155\u001b[0m \u001b[38;5;28mself\u001b[39m\u001b[38;5;241m.\u001b[39mprompts \u001b[38;5;241m=\u001b[39m system \u001b[38;5;241m+\u001b[39m \u001b[38;5;124m\"\u001b[39m\u001b[38;5;124m||--||\u001b[39m\u001b[38;5;124m\"\u001b[39m \u001b[38;5;241m+\u001b[39m user\n\u001b[0;32m--> 157\u001b[0m prefix \u001b[38;5;241m=\u001b[39m \u001b[38;5;28;43mself\u001b[39;49m\u001b[38;5;241;43m.\u001b[39;49m\u001b[43mprompts\u001b[49m\u001b[38;5;241;43m.\u001b[39;49m\u001b[43mformat\u001b[49m\u001b[43m(\u001b[49m\u001b[38;5;241;43m*\u001b[39;49m\u001b[38;5;241;43m*\u001b[39;49m\u001b[43mkwargs\u001b[49m\u001b[43m)\u001b[49m\n\u001b[1;32m    158\u001b[0m \u001b[38;5;28mprint\u001b[39m(system)\n\u001b[1;32m    159\u001b[0m \u001b[38;5;28mprint\u001b[39m(user)\n",
      "\u001b[0;31mKeyError\u001b[0m: '\\n            \"bank_name\"'"
     ]
    }
   ],
   "source": [
    "question = (\"As n ranges over all positive integers，how many possible values can $\\operatorname{gcd}(6 n+ 15,10 \"\n",
    "            \"n+21)$ equal？The notation $\\operatorname{gcd}(a, b)$ represents the greatest common divisor of $a$ \"\n",
    "            \"and $b$\")\n",
    "audit_solver = Audit()\n",
    "info = audit_solver(file=question)\n",
    "    "
   ]
  },
  {
   "cell_type": "code",
   "execution_count": 70,
   "metadata": {},
   "outputs": [
    {
     "data": {
      "text/plain": [
       "'As n ranges over all positive integers，how many possible values can $\\\\operatorname{gcd}(6 n+ 15,10 n+21)$ equal？The notation $\\\\operatorname{gcd}(a, b)$ represents the greatest common divisor of $a$ and $b$'"
      ]
     },
     "execution_count": 70,
     "metadata": {},
     "output_type": "execute_result"
    }
   ],
   "source": [
    "question"
   ]
  },
  {
   "cell_type": "code",
   "execution_count": null,
   "metadata": {},
   "outputs": [],
   "source": []
  }
 ],
 "metadata": {
  "kernelspec": {
   "display_name": "agent",
   "language": "python",
   "name": "python3"
  },
  "language_info": {
   "codemirror_mode": {
    "name": "ipython",
    "version": 3
   },
   "file_extension": ".py",
   "mimetype": "text/x-python",
   "name": "python",
   "nbconvert_exporter": "python",
   "pygments_lexer": "ipython3",
   "version": "3.10.13"
  }
 },
 "nbformat": 4,
 "nbformat_minor": 2
}
